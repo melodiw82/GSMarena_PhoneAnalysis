{
 "cells": [
  {
   "cell_type": "code",
   "execution_count": 1,
   "metadata": {},
   "outputs": [],
   "source": [
    "import numpy as np\n",
    "import pandas as pd\n",
    "\n",
    "from sklearn.model_selection import train_test_split\n",
    "\n",
    "from imblearn.over_sampling import RandomOverSampler, SMOTE\n",
    "from imblearn.over_sampling import ADASYN\n",
    "from imblearn.under_sampling import RandomUnderSampler"
   ]
  },
  {
   "cell_type": "code",
   "execution_count": 2,
   "metadata": {},
   "outputs": [],
   "source": [
    "pd.set_option('display.max_rows', None)\n",
    "pd.set_option('display.max_columns', None)"
   ]
  },
  {
   "cell_type": "code",
   "execution_count": 3,
   "metadata": {},
   "outputs": [],
   "source": [
    "df = pd.read_csv('final_data.csv')"
   ]
  },
  {
   "cell_type": "code",
   "execution_count": 4,
   "metadata": {},
   "outputs": [
    {
     "data": {
      "text/html": [
       "<div>\n",
       "<style scoped>\n",
       "    .dataframe tbody tr th:only-of-type {\n",
       "        vertical-align: middle;\n",
       "    }\n",
       "\n",
       "    .dataframe tbody tr th {\n",
       "        vertical-align: top;\n",
       "    }\n",
       "\n",
       "    .dataframe thead th {\n",
       "        text-align: right;\n",
       "    }\n",
       "</style>\n",
       "<table border=\"1\" class=\"dataframe\">\n",
       "  <thead>\n",
       "    <tr style=\"text-align: right;\">\n",
       "      <th></th>\n",
       "      <th>brand</th>\n",
       "      <th>4G</th>\n",
       "      <th>5G</th>\n",
       "      <th>Announced</th>\n",
       "      <th>Status</th>\n",
       "      <th>Weight</th>\n",
       "      <th>Diameter</th>\n",
       "      <th>Display Size</th>\n",
       "      <th>ppi</th>\n",
       "      <th>body ratio</th>\n",
       "      <th>OS</th>\n",
       "      <th>battery_capacity</th>\n",
       "      <th>Price</th>\n",
       "      <th>CPU</th>\n",
       "      <th>ratio</th>\n",
       "      <th>pixel</th>\n",
       "      <th>GPU</th>\n",
       "      <th>Chipset</th>\n",
       "      <th>RAM</th>\n",
       "      <th>Storage</th>\n",
       "      <th>Weight Cat</th>\n",
       "      <th>Diameter Cat</th>\n",
       "      <th>Display Size Cat</th>\n",
       "      <th>ppi Cat</th>\n",
       "      <th>body ratio Cat</th>\n",
       "      <th>battery_capacity Cat</th>\n",
       "      <th>Price Cat</th>\n",
       "      <th>WLAN_COUNT</th>\n",
       "      <th>pixel Cat</th>\n",
       "      <th>SIM_Micro-SIM</th>\n",
       "      <th>SIM_Mini-SIM</th>\n",
       "      <th>SIM_Nano-SIM</th>\n",
       "      <th>SIM_eSIM</th>\n",
       "      <th>Display Type_AMOLED</th>\n",
       "      <th>Display Type_LCD</th>\n",
       "      <th>Display Type_OLED</th>\n",
       "      <th>Display Type_Others</th>\n",
       "      <th>Display Type_Retina</th>\n",
       "      <th>Display Type_TFT</th>\n",
       "    </tr>\n",
       "  </thead>\n",
       "  <tbody>\n",
       "    <tr>\n",
       "      <th>0</th>\n",
       "      <td>0</td>\n",
       "      <td>True</td>\n",
       "      <td>False</td>\n",
       "      <td>2022.0</td>\n",
       "      <td>0</td>\n",
       "      <td>172.0</td>\n",
       "      <td>10.0</td>\n",
       "      <td>5.5</td>\n",
       "      <td>293.0</td>\n",
       "      <td>74.0</td>\n",
       "      <td>0</td>\n",
       "      <td>3000.0</td>\n",
       "      <td>100.0</td>\n",
       "      <td>4.0</td>\n",
       "      <td>3</td>\n",
       "      <td>1036800.0</td>\n",
       "      <td>5</td>\n",
       "      <td>4</td>\n",
       "      <td>2.0</td>\n",
       "      <td>32.0</td>\n",
       "      <td>2</td>\n",
       "      <td>3</td>\n",
       "      <td>3</td>\n",
       "      <td>2</td>\n",
       "      <td>0</td>\n",
       "      <td>2</td>\n",
       "      <td>3</td>\n",
       "      <td>2</td>\n",
       "      <td>2</td>\n",
       "      <td>False</td>\n",
       "      <td>False</td>\n",
       "      <td>True</td>\n",
       "      <td>False</td>\n",
       "      <td>False</td>\n",
       "      <td>True</td>\n",
       "      <td>False</td>\n",
       "      <td>False</td>\n",
       "      <td>False</td>\n",
       "      <td>False</td>\n",
       "    </tr>\n",
       "    <tr>\n",
       "      <th>1</th>\n",
       "      <td>0</td>\n",
       "      <td>True</td>\n",
       "      <td>False</td>\n",
       "      <td>2021.0</td>\n",
       "      <td>0</td>\n",
       "      <td>190.0</td>\n",
       "      <td>9.7</td>\n",
       "      <td>6.1</td>\n",
       "      <td>282.0</td>\n",
       "      <td>78.1</td>\n",
       "      <td>0</td>\n",
       "      <td>3000.0</td>\n",
       "      <td>110.0</td>\n",
       "      <td>8.0</td>\n",
       "      <td>11</td>\n",
       "      <td>1123200.0</td>\n",
       "      <td>4</td>\n",
       "      <td>8</td>\n",
       "      <td>2.0</td>\n",
       "      <td>32.0</td>\n",
       "      <td>2</td>\n",
       "      <td>0</td>\n",
       "      <td>4</td>\n",
       "      <td>2</td>\n",
       "      <td>0</td>\n",
       "      <td>2</td>\n",
       "      <td>3</td>\n",
       "      <td>2</td>\n",
       "      <td>0</td>\n",
       "      <td>False</td>\n",
       "      <td>False</td>\n",
       "      <td>True</td>\n",
       "      <td>False</td>\n",
       "      <td>False</td>\n",
       "      <td>True</td>\n",
       "      <td>False</td>\n",
       "      <td>False</td>\n",
       "      <td>False</td>\n",
       "      <td>False</td>\n",
       "    </tr>\n",
       "  </tbody>\n",
       "</table>\n",
       "</div>"
      ],
      "text/plain": [
       "   brand    4G     5G  Announced  Status  Weight  Diameter  Display Size  \\\n",
       "0      0  True  False     2022.0       0   172.0      10.0           5.5   \n",
       "1      0  True  False     2021.0       0   190.0       9.7           6.1   \n",
       "\n",
       "     ppi  body ratio  OS  battery_capacity  Price  CPU  ratio      pixel  GPU  \\\n",
       "0  293.0        74.0   0            3000.0  100.0  4.0      3  1036800.0    5   \n",
       "1  282.0        78.1   0            3000.0  110.0  8.0     11  1123200.0    4   \n",
       "\n",
       "   Chipset  RAM  Storage  Weight Cat  Diameter Cat  Display Size Cat  ppi Cat  \\\n",
       "0        4  2.0     32.0           2             3                 3        2   \n",
       "1        8  2.0     32.0           2             0                 4        2   \n",
       "\n",
       "   body ratio Cat  battery_capacity Cat  Price Cat  WLAN_COUNT  pixel Cat  \\\n",
       "0               0                     2          3           2          2   \n",
       "1               0                     2          3           2          0   \n",
       "\n",
       "   SIM_Micro-SIM  SIM_Mini-SIM  SIM_Nano-SIM  SIM_eSIM  Display Type_AMOLED  \\\n",
       "0          False         False          True     False                False   \n",
       "1          False         False          True     False                False   \n",
       "\n",
       "   Display Type_LCD  Display Type_OLED  Display Type_Others  \\\n",
       "0              True              False                False   \n",
       "1              True              False                False   \n",
       "\n",
       "   Display Type_Retina  Display Type_TFT  \n",
       "0                False             False  \n",
       "1                False             False  "
      ]
     },
     "execution_count": 4,
     "metadata": {},
     "output_type": "execute_result"
    }
   ],
   "source": [
    "df.head(2)"
   ]
  },
  {
   "cell_type": "markdown",
   "metadata": {},
   "source": [
    "# Part 1"
   ]
  },
  {
   "cell_type": "code",
   "execution_count": 5,
   "metadata": {},
   "outputs": [],
   "source": [
    "X = df.drop('OS' , axis=1)\n",
    "Y = df['OS']\n",
    "\n",
    "X_train, X_test, Y_train, Y_test = train_test_split(X, Y, test_size=0.15, random_state=42)"
   ]
  },
  {
   "cell_type": "code",
   "execution_count": 6,
   "metadata": {},
   "outputs": [],
   "source": [
    "X_tr_tr, X_val_tr, y_tr_tr, y_val_tr = train_test_split(X_train, Y_train, test_size=0.15, random_state=42)"
   ]
  },
  {
   "cell_type": "markdown",
   "metadata": {},
   "source": [
    "## Handling Imbalaced Data"
   ]
  },
  {
   "cell_type": "markdown",
   "metadata": {},
   "source": [
    "###### ADASYN"
   ]
  },
  {
   "cell_type": "code",
   "execution_count": 7,
   "metadata": {},
   "outputs": [
    {
     "data": {
      "text/plain": [
       "\"\\n\\nads=ADASYN(random_state=42)\\n\\n\\nX_tr_tr_balanced_adasyn, y_tr_tr_balanced_adasyn = ads.fit_resample(X_tr_tr, y_tr_tr)\\n\\nX_val_tr_balanced_adasyn, y_val_tr_balanced_adasyn = ads.fit_resample(X_val_tr, y_val_tr)\\n\\n\\n\\nprint(X_tr_tr.shape, y_tr_tr.shape, np.unique(y_tr_tr, return_counts=True))\\nprint(X_val_tr.shape, y_val_tr.shape, np.unique(y_val_tr, return_counts=True))\\n\\nprint('------------------------------------')\\n\\nprint('Balanced :')\\nprint(X_tr_tr_balanced_adasyn.shape, y_tr_tr_balanced_adasyn.shape, np.unique(y_tr_tr_balanced_adasyn, return_counts=True))\\nprint(X_val_tr_balanced_adasyn.shape, y_val_tr_balanced_adasyn.shape, np.unique(y_val_tr_balanced_adasyn, return_counts=True))\\n\\n\\n\""
      ]
     },
     "execution_count": 7,
     "metadata": {},
     "output_type": "execute_result"
    }
   ],
   "source": [
    "'''\n",
    "\n",
    "ads=ADASYN(random_state=42)\n",
    "\n",
    "\n",
    "X_tr_tr_balanced_adasyn, y_tr_tr_balanced_adasyn = ads.fit_resample(X_tr_tr, y_tr_tr)\n",
    "\n",
    "\n",
    "print(X_tr_tr.shape, y_tr_tr.shape, np.unique(y_tr_tr, return_counts=True))\n",
    "\n",
    "print('------------------------------------')\n",
    "\n",
    "print('Balanced :')\n",
    "print(X_tr_tr_balanced_adasyn.shape, y_tr_tr_balanced_adasyn.shape, np.unique(y_tr_tr_balanced_adasyn, return_counts=True))\n",
    "\n",
    "'''"
   ]
  },
  {
   "cell_type": "markdown",
   "metadata": {},
   "source": [
    "###### SMOTE"
   ]
  },
  {
   "cell_type": "code",
   "execution_count": 7,
   "metadata": {},
   "outputs": [
    {
     "name": "stdout",
     "output_type": "stream",
     "text": [
      "(1911, 38) (1911,) (array([0, 1, 2], dtype=int64), array([1765,   97,   49], dtype=int64))\n",
      "------------------------------------\n",
      "Balanced :\n",
      "(5295, 38) (5295,) (array([0, 1, 2], dtype=int64), array([1765, 1765, 1765], dtype=int64))\n"
     ]
    }
   ],
   "source": [
    "smt=SMOTE(random_state=42)\n",
    "\n",
    "\n",
    "X_tr_tr_balanced_smote, y_tr_tr_balanced_smote = smt.fit_resample(X_tr_tr, y_tr_tr)\n",
    "\n",
    "\n",
    "print(X_tr_tr.shape, y_tr_tr.shape, np.unique(y_tr_tr, return_counts=True))\n",
    "\n",
    "print('------------------------------------')\n",
    "\n",
    "print('Balanced :')\n",
    "print(X_tr_tr_balanced_smote.shape, y_tr_tr_balanced_smote.shape, np.unique(y_tr_tr_balanced_smote, return_counts=True))"
   ]
  },
  {
   "cell_type": "markdown",
   "metadata": {},
   "source": [
    "## Scaling the data"
   ]
  },
  {
   "cell_type": "code",
   "execution_count": 8,
   "metadata": {},
   "outputs": [
    {
     "data": {
      "text/plain": [
       "Index(['brand', '4G', '5G', 'Announced', 'Status', 'Weight', 'Diameter',\n",
       "       'Display Size', 'ppi', 'body ratio', 'OS', 'battery_capacity', 'Price',\n",
       "       'CPU', 'ratio', 'pixel', 'GPU', 'Chipset', 'RAM', 'Storage',\n",
       "       'Weight Cat', 'Diameter Cat', 'Display Size Cat', 'ppi Cat',\n",
       "       'body ratio Cat', 'battery_capacity Cat', 'Price Cat', 'WLAN_COUNT',\n",
       "       'pixel Cat', 'SIM_Micro-SIM', 'SIM_Mini-SIM', 'SIM_Nano-SIM',\n",
       "       'SIM_eSIM', 'Display Type_AMOLED', 'Display Type_LCD',\n",
       "       'Display Type_OLED', 'Display Type_Others', 'Display Type_Retina',\n",
       "       'Display Type_TFT'],\n",
       "      dtype='object')"
      ]
     },
     "execution_count": 8,
     "metadata": {},
     "output_type": "execute_result"
    }
   ],
   "source": [
    "df.columns"
   ]
  },
  {
   "cell_type": "code",
   "execution_count": 9,
   "metadata": {},
   "outputs": [],
   "source": [
    "from sklearn.preprocessing import StandardScaler, MinMaxScaler\n",
    "\n",
    "selected_features = ['brand', '5G', '4G', 'battery_capacity', 'CPU', 'GPU', 'WLAN_COUNT', 'Chipset', 'SIM_Micro-SIM', 'SIM_Mini-SIM', 'SIM_Nano-SIM',\n",
    "       'SIM_eSIM', 'Display Type_AMOLED', 'Display Type_LCD',\n",
    "       'Display Type_OLED', 'Display Type_Others', 'Display Type_Retina',\n",
    "       'Display Type_TFT', 'Display Size Cat']\n",
    "\n",
    "X_train_selected = X_tr_tr_balanced_smote[selected_features]\n",
    "\n",
    "scaler_standard = StandardScaler()\n",
    "scaler_minmax = MinMaxScaler()"
   ]
  },
  {
   "cell_type": "code",
   "execution_count": 10,
   "metadata": {},
   "outputs": [],
   "source": [
    "X_val_selected = X_val_tr[selected_features]"
   ]
  },
  {
   "cell_type": "code",
   "execution_count": 11,
   "metadata": {},
   "outputs": [],
   "source": [
    "X_test_selected = X_test[selected_features]"
   ]
  },
  {
   "cell_type": "markdown",
   "metadata": {},
   "source": [
    "## Model Selection and Scaling using GridSearch"
   ]
  },
  {
   "cell_type": "code",
   "execution_count": 12,
   "metadata": {},
   "outputs": [
    {
     "name": "stdout",
     "output_type": "stream",
     "text": [
      "Scaler: StandardScaler, Classifier: Decision Tree\n",
      "Best Score: 0.9265427227801691\n",
      "Best Parameters: {'max_depth': 7}\n",
      "\n",
      "Scaler: StandardScaler, Classifier: Random Forest\n",
      "Best Score: 0.9410030448861594\n",
      "Best Parameters: {'n_estimators': 100}\n",
      "\n",
      "Scaler: StandardScaler, Classifier: AdaBoost\n",
      "Best Score: 0.9213312087679071\n",
      "Best Parameters: {'learning_rate': 0.1, 'n_estimators': 100}\n",
      "\n",
      "Scaler: StandardScaler, Classifier: XGBoost\n",
      "Best Score: 0.942839801287364\n",
      "Best Parameters: {'learning_rate': 1, 'n_estimators': 200}\n",
      "\n",
      "Scaler: MinMaxScaler, Classifier: Decision Tree\n",
      "Best Score: 0.926052964182553\n",
      "Best Parameters: {'max_depth': 5}\n",
      "\n",
      "Scaler: MinMaxScaler, Classifier: Random Forest\n",
      "Best Score: 0.9396646514642745\n",
      "Best Parameters: {'n_estimators': 100}\n",
      "\n",
      "Scaler: MinMaxScaler, Classifier: AdaBoost\n",
      "Best Score: 0.9213312087679071\n",
      "Best Parameters: {'learning_rate': 0.1, 'n_estimators': 100}\n",
      "\n",
      "Scaler: MinMaxScaler, Classifier: XGBoost\n",
      "Best Score: 0.942839801287364\n",
      "Best Parameters: {'learning_rate': 1, 'n_estimators': 200}\n",
      "\n"
     ]
    }
   ],
   "source": [
    "from sklearn.model_selection import GridSearchCV\n",
    "from sklearn.tree import DecisionTreeClassifier\n",
    "from sklearn.ensemble import RandomForestClassifier, AdaBoostClassifier\n",
    "from xgboost import XGBClassifier\n",
    "from catboost import CatBoostClassifier\n",
    "\n",
    "classifiers = {\n",
    "    'Decision Tree': DecisionTreeClassifier(),\n",
    "    'Random Forest': RandomForestClassifier(),\n",
    "    'AdaBoost': AdaBoostClassifier(),\n",
    "    'XGBoost': XGBClassifier()\n",
    "}\n",
    "\n",
    "param_grids = {\n",
    "    'Decision Tree': {\n",
    "        'max_depth': [3, 5, 7]\n",
    "    },\n",
    "    'Random Forest': {\n",
    "        'n_estimators': [50, 100, 200]\n",
    "    },\n",
    "    'AdaBoost': {\n",
    "        'n_estimators': [50, 100, 200],\n",
    "        'learning_rate': [0.01, 0.1, 1]\n",
    "    },\n",
    "    'XGBoost': {\n",
    "        'n_estimators': [50, 100, 200],\n",
    "        'learning_rate': [0.01, 0.1, 1]\n",
    "    }\n",
    "}\n",
    "\n",
    "results = {}\n",
    "\n",
    "for scaler_name, scaler in [('StandardScaler', scaler_standard), ('MinMaxScaler', scaler_minmax)]:\n",
    "    X_val_scaled = scaler.fit_transform(X_val_selected) \n",
    "    for clf_name, clf in classifiers.items():\n",
    "        grid_search = GridSearchCV(clf, param_grids[clf_name], cv=5, scoring='f1_weighted')\n",
    "        grid_search.fit(X_val_scaled, y_val_tr) \n",
    "        results[(scaler_name, clf_name)] = grid_search\n",
    "        \n",
    "        print(f\"Scaler: {scaler_name}, Classifier: {clf_name}\")\n",
    "        print(\"Best Score:\", grid_search.best_score_)\n",
    "        print(\"Best Parameters:\", grid_search.best_params_)\n",
    "        print()"
   ]
  },
  {
   "cell_type": "code",
   "execution_count": 13,
   "metadata": {},
   "outputs": [],
   "source": [
    "best_scores = {}\n",
    "best_params = {}\n",
    "for (scaler_name, clf_name), grid_search in results.items():\n",
    "    best_scores[(scaler_name, clf_name)] = grid_search.best_score_\n",
    "    best_params[(scaler_name, clf_name)] = grid_search.best_params_"
   ]
  },
  {
   "cell_type": "code",
   "execution_count": 14,
   "metadata": {},
   "outputs": [
    {
     "data": {
      "text/plain": [
       "{('StandardScaler', 'Decision Tree'): 0.9265427227801691,\n",
       " ('StandardScaler', 'Random Forest'): 0.9410030448861594,\n",
       " ('StandardScaler', 'AdaBoost'): 0.9213312087679071,\n",
       " ('StandardScaler', 'XGBoost'): 0.942839801287364,\n",
       " ('MinMaxScaler', 'Decision Tree'): 0.926052964182553,\n",
       " ('MinMaxScaler', 'Random Forest'): 0.9396646514642745,\n",
       " ('MinMaxScaler', 'AdaBoost'): 0.9213312087679071,\n",
       " ('MinMaxScaler', 'XGBoost'): 0.942839801287364}"
      ]
     },
     "execution_count": 14,
     "metadata": {},
     "output_type": "execute_result"
    }
   ],
   "source": [
    "best_scores"
   ]
  },
  {
   "cell_type": "code",
   "execution_count": 15,
   "metadata": {},
   "outputs": [
    {
     "data": {
      "text/plain": [
       "{('StandardScaler', 'Decision Tree'): {'max_depth': 7},\n",
       " ('StandardScaler', 'Random Forest'): {'n_estimators': 100},\n",
       " ('StandardScaler', 'AdaBoost'): {'learning_rate': 0.1, 'n_estimators': 100},\n",
       " ('StandardScaler', 'XGBoost'): {'learning_rate': 1, 'n_estimators': 200},\n",
       " ('MinMaxScaler', 'Decision Tree'): {'max_depth': 5},\n",
       " ('MinMaxScaler', 'Random Forest'): {'n_estimators': 100},\n",
       " ('MinMaxScaler', 'AdaBoost'): {'learning_rate': 0.1, 'n_estimators': 100},\n",
       " ('MinMaxScaler', 'XGBoost'): {'learning_rate': 1, 'n_estimators': 200}}"
      ]
     },
     "execution_count": 15,
     "metadata": {},
     "output_type": "execute_result"
    }
   ],
   "source": [
    "best_params"
   ]
  },
  {
   "cell_type": "code",
   "execution_count": 16,
   "metadata": {},
   "outputs": [
    {
     "data": {
      "text/plain": [
       "('StandardScaler', 'XGBoost')"
      ]
     },
     "execution_count": 16,
     "metadata": {},
     "output_type": "execute_result"
    }
   ],
   "source": [
    "best_model_key = max(best_scores, key=best_scores.get)\n",
    "best_model_key"
   ]
  },
  {
   "cell_type": "code",
   "execution_count": 17,
   "metadata": {},
   "outputs": [
    {
     "data": {
      "text/html": [
       "<style>#sk-container-id-1 {color: black;}#sk-container-id-1 pre{padding: 0;}#sk-container-id-1 div.sk-toggleable {background-color: white;}#sk-container-id-1 label.sk-toggleable__label {cursor: pointer;display: block;width: 100%;margin-bottom: 0;padding: 0.3em;box-sizing: border-box;text-align: center;}#sk-container-id-1 label.sk-toggleable__label-arrow:before {content: \"▸\";float: left;margin-right: 0.25em;color: #696969;}#sk-container-id-1 label.sk-toggleable__label-arrow:hover:before {color: black;}#sk-container-id-1 div.sk-estimator:hover label.sk-toggleable__label-arrow:before {color: black;}#sk-container-id-1 div.sk-toggleable__content {max-height: 0;max-width: 0;overflow: hidden;text-align: left;background-color: #f0f8ff;}#sk-container-id-1 div.sk-toggleable__content pre {margin: 0.2em;color: black;border-radius: 0.25em;background-color: #f0f8ff;}#sk-container-id-1 input.sk-toggleable__control:checked~div.sk-toggleable__content {max-height: 200px;max-width: 100%;overflow: auto;}#sk-container-id-1 input.sk-toggleable__control:checked~label.sk-toggleable__label-arrow:before {content: \"▾\";}#sk-container-id-1 div.sk-estimator input.sk-toggleable__control:checked~label.sk-toggleable__label {background-color: #d4ebff;}#sk-container-id-1 div.sk-label input.sk-toggleable__control:checked~label.sk-toggleable__label {background-color: #d4ebff;}#sk-container-id-1 input.sk-hidden--visually {border: 0;clip: rect(1px 1px 1px 1px);clip: rect(1px, 1px, 1px, 1px);height: 1px;margin: -1px;overflow: hidden;padding: 0;position: absolute;width: 1px;}#sk-container-id-1 div.sk-estimator {font-family: monospace;background-color: #f0f8ff;border: 1px dotted black;border-radius: 0.25em;box-sizing: border-box;margin-bottom: 0.5em;}#sk-container-id-1 div.sk-estimator:hover {background-color: #d4ebff;}#sk-container-id-1 div.sk-parallel-item::after {content: \"\";width: 100%;border-bottom: 1px solid gray;flex-grow: 1;}#sk-container-id-1 div.sk-label:hover label.sk-toggleable__label {background-color: #d4ebff;}#sk-container-id-1 div.sk-serial::before {content: \"\";position: absolute;border-left: 1px solid gray;box-sizing: border-box;top: 0;bottom: 0;left: 50%;z-index: 0;}#sk-container-id-1 div.sk-serial {display: flex;flex-direction: column;align-items: center;background-color: white;padding-right: 0.2em;padding-left: 0.2em;position: relative;}#sk-container-id-1 div.sk-item {position: relative;z-index: 1;}#sk-container-id-1 div.sk-parallel {display: flex;align-items: stretch;justify-content: center;background-color: white;position: relative;}#sk-container-id-1 div.sk-item::before, #sk-container-id-1 div.sk-parallel-item::before {content: \"\";position: absolute;border-left: 1px solid gray;box-sizing: border-box;top: 0;bottom: 0;left: 50%;z-index: -1;}#sk-container-id-1 div.sk-parallel-item {display: flex;flex-direction: column;z-index: 1;position: relative;background-color: white;}#sk-container-id-1 div.sk-parallel-item:first-child::after {align-self: flex-end;width: 50%;}#sk-container-id-1 div.sk-parallel-item:last-child::after {align-self: flex-start;width: 50%;}#sk-container-id-1 div.sk-parallel-item:only-child::after {width: 0;}#sk-container-id-1 div.sk-dashed-wrapped {border: 1px dashed gray;margin: 0 0.4em 0.5em 0.4em;box-sizing: border-box;padding-bottom: 0.4em;background-color: white;}#sk-container-id-1 div.sk-label label {font-family: monospace;font-weight: bold;display: inline-block;line-height: 1.2em;}#sk-container-id-1 div.sk-label-container {text-align: center;}#sk-container-id-1 div.sk-container {/* jupyter's `normalize.less` sets `[hidden] { display: none; }` but bootstrap.min.css set `[hidden] { display: none !important; }` so we also need the `!important` here to be able to override the default hidden behavior on the sphinx rendered scikit-learn.org. See: https://github.com/scikit-learn/scikit-learn/issues/21755 */display: inline-block !important;position: relative;}#sk-container-id-1 div.sk-text-repr-fallback {display: none;}</style><div id=\"sk-container-id-1\" class=\"sk-top-container\"><div class=\"sk-text-repr-fallback\"><pre>XGBClassifier(base_score=None, booster=None, callbacks=None,\n",
       "              colsample_bylevel=None, colsample_bynode=None,\n",
       "              colsample_bytree=None, device=None, early_stopping_rounds=None,\n",
       "              enable_categorical=False, eval_metric=None, feature_types=None,\n",
       "              gamma=None, grow_policy=None, importance_type=None,\n",
       "              interaction_constraints=None, learning_rate=1, max_bin=None,\n",
       "              max_cat_threshold=None, max_cat_to_onehot=None,\n",
       "              max_delta_step=None, max_depth=None, max_leaves=None,\n",
       "              min_child_weight=None, missing=nan, monotone_constraints=None,\n",
       "              multi_strategy=None, n_estimators=200, n_jobs=None,\n",
       "              num_parallel_tree=None, objective=&#x27;multi:softprob&#x27;, ...)</pre><b>In a Jupyter environment, please rerun this cell to show the HTML representation or trust the notebook. <br />On GitHub, the HTML representation is unable to render, please try loading this page with nbviewer.org.</b></div><div class=\"sk-container\" hidden><div class=\"sk-item\"><div class=\"sk-estimator sk-toggleable\"><input class=\"sk-toggleable__control sk-hidden--visually\" id=\"sk-estimator-id-1\" type=\"checkbox\" checked><label for=\"sk-estimator-id-1\" class=\"sk-toggleable__label sk-toggleable__label-arrow\">XGBClassifier</label><div class=\"sk-toggleable__content\"><pre>XGBClassifier(base_score=None, booster=None, callbacks=None,\n",
       "              colsample_bylevel=None, colsample_bynode=None,\n",
       "              colsample_bytree=None, device=None, early_stopping_rounds=None,\n",
       "              enable_categorical=False, eval_metric=None, feature_types=None,\n",
       "              gamma=None, grow_policy=None, importance_type=None,\n",
       "              interaction_constraints=None, learning_rate=1, max_bin=None,\n",
       "              max_cat_threshold=None, max_cat_to_onehot=None,\n",
       "              max_delta_step=None, max_depth=None, max_leaves=None,\n",
       "              min_child_weight=None, missing=nan, monotone_constraints=None,\n",
       "              multi_strategy=None, n_estimators=200, n_jobs=None,\n",
       "              num_parallel_tree=None, objective=&#x27;multi:softprob&#x27;, ...)</pre></div></div></div></div></div>"
      ],
      "text/plain": [
       "XGBClassifier(base_score=None, booster=None, callbacks=None,\n",
       "              colsample_bylevel=None, colsample_bynode=None,\n",
       "              colsample_bytree=None, device=None, early_stopping_rounds=None,\n",
       "              enable_categorical=False, eval_metric=None, feature_types=None,\n",
       "              gamma=None, grow_policy=None, importance_type=None,\n",
       "              interaction_constraints=None, learning_rate=1, max_bin=None,\n",
       "              max_cat_threshold=None, max_cat_to_onehot=None,\n",
       "              max_delta_step=None, max_depth=None, max_leaves=None,\n",
       "              min_child_weight=None, missing=nan, monotone_constraints=None,\n",
       "              multi_strategy=None, n_estimators=200, n_jobs=None,\n",
       "              num_parallel_tree=None, objective='multi:softprob', ...)"
      ]
     },
     "execution_count": 17,
     "metadata": {},
     "output_type": "execute_result"
    }
   ],
   "source": [
    "best_model = results[best_model_key].best_estimator_\n",
    "best_model"
   ]
  },
  {
   "cell_type": "code",
   "execution_count": 18,
   "metadata": {},
   "outputs": [],
   "source": [
    "X_train_scaled = scaler_standard.fit_transform(X_train_selected)\n",
    "\n",
    "X_val_scaled = scaler_standard.transform(X_val_selected)\n",
    "\n",
    "X_test_scaled = scaler_standard.transform(X_test_selected)"
   ]
  },
  {
   "cell_type": "code",
   "execution_count": 19,
   "metadata": {},
   "outputs": [
    {
     "data": {
      "text/html": [
       "<style>#sk-container-id-2 {color: black;}#sk-container-id-2 pre{padding: 0;}#sk-container-id-2 div.sk-toggleable {background-color: white;}#sk-container-id-2 label.sk-toggleable__label {cursor: pointer;display: block;width: 100%;margin-bottom: 0;padding: 0.3em;box-sizing: border-box;text-align: center;}#sk-container-id-2 label.sk-toggleable__label-arrow:before {content: \"▸\";float: left;margin-right: 0.25em;color: #696969;}#sk-container-id-2 label.sk-toggleable__label-arrow:hover:before {color: black;}#sk-container-id-2 div.sk-estimator:hover label.sk-toggleable__label-arrow:before {color: black;}#sk-container-id-2 div.sk-toggleable__content {max-height: 0;max-width: 0;overflow: hidden;text-align: left;background-color: #f0f8ff;}#sk-container-id-2 div.sk-toggleable__content pre {margin: 0.2em;color: black;border-radius: 0.25em;background-color: #f0f8ff;}#sk-container-id-2 input.sk-toggleable__control:checked~div.sk-toggleable__content {max-height: 200px;max-width: 100%;overflow: auto;}#sk-container-id-2 input.sk-toggleable__control:checked~label.sk-toggleable__label-arrow:before {content: \"▾\";}#sk-container-id-2 div.sk-estimator input.sk-toggleable__control:checked~label.sk-toggleable__label {background-color: #d4ebff;}#sk-container-id-2 div.sk-label input.sk-toggleable__control:checked~label.sk-toggleable__label {background-color: #d4ebff;}#sk-container-id-2 input.sk-hidden--visually {border: 0;clip: rect(1px 1px 1px 1px);clip: rect(1px, 1px, 1px, 1px);height: 1px;margin: -1px;overflow: hidden;padding: 0;position: absolute;width: 1px;}#sk-container-id-2 div.sk-estimator {font-family: monospace;background-color: #f0f8ff;border: 1px dotted black;border-radius: 0.25em;box-sizing: border-box;margin-bottom: 0.5em;}#sk-container-id-2 div.sk-estimator:hover {background-color: #d4ebff;}#sk-container-id-2 div.sk-parallel-item::after {content: \"\";width: 100%;border-bottom: 1px solid gray;flex-grow: 1;}#sk-container-id-2 div.sk-label:hover label.sk-toggleable__label {background-color: #d4ebff;}#sk-container-id-2 div.sk-serial::before {content: \"\";position: absolute;border-left: 1px solid gray;box-sizing: border-box;top: 0;bottom: 0;left: 50%;z-index: 0;}#sk-container-id-2 div.sk-serial {display: flex;flex-direction: column;align-items: center;background-color: white;padding-right: 0.2em;padding-left: 0.2em;position: relative;}#sk-container-id-2 div.sk-item {position: relative;z-index: 1;}#sk-container-id-2 div.sk-parallel {display: flex;align-items: stretch;justify-content: center;background-color: white;position: relative;}#sk-container-id-2 div.sk-item::before, #sk-container-id-2 div.sk-parallel-item::before {content: \"\";position: absolute;border-left: 1px solid gray;box-sizing: border-box;top: 0;bottom: 0;left: 50%;z-index: -1;}#sk-container-id-2 div.sk-parallel-item {display: flex;flex-direction: column;z-index: 1;position: relative;background-color: white;}#sk-container-id-2 div.sk-parallel-item:first-child::after {align-self: flex-end;width: 50%;}#sk-container-id-2 div.sk-parallel-item:last-child::after {align-self: flex-start;width: 50%;}#sk-container-id-2 div.sk-parallel-item:only-child::after {width: 0;}#sk-container-id-2 div.sk-dashed-wrapped {border: 1px dashed gray;margin: 0 0.4em 0.5em 0.4em;box-sizing: border-box;padding-bottom: 0.4em;background-color: white;}#sk-container-id-2 div.sk-label label {font-family: monospace;font-weight: bold;display: inline-block;line-height: 1.2em;}#sk-container-id-2 div.sk-label-container {text-align: center;}#sk-container-id-2 div.sk-container {/* jupyter's `normalize.less` sets `[hidden] { display: none; }` but bootstrap.min.css set `[hidden] { display: none !important; }` so we also need the `!important` here to be able to override the default hidden behavior on the sphinx rendered scikit-learn.org. See: https://github.com/scikit-learn/scikit-learn/issues/21755 */display: inline-block !important;position: relative;}#sk-container-id-2 div.sk-text-repr-fallback {display: none;}</style><div id=\"sk-container-id-2\" class=\"sk-top-container\"><div class=\"sk-text-repr-fallback\"><pre>XGBClassifier(base_score=None, booster=None, callbacks=None,\n",
       "              colsample_bylevel=None, colsample_bynode=None,\n",
       "              colsample_bytree=None, device=None, early_stopping_rounds=None,\n",
       "              enable_categorical=False, eval_metric=None, feature_types=None,\n",
       "              gamma=None, grow_policy=None, importance_type=None,\n",
       "              interaction_constraints=None, learning_rate=1, max_bin=None,\n",
       "              max_cat_threshold=None, max_cat_to_onehot=None,\n",
       "              max_delta_step=None, max_depth=None, max_leaves=None,\n",
       "              min_child_weight=None, missing=nan, monotone_constraints=None,\n",
       "              multi_strategy=None, n_estimators=200, n_jobs=None,\n",
       "              num_parallel_tree=None, objective=&#x27;multi:softprob&#x27;, ...)</pre><b>In a Jupyter environment, please rerun this cell to show the HTML representation or trust the notebook. <br />On GitHub, the HTML representation is unable to render, please try loading this page with nbviewer.org.</b></div><div class=\"sk-container\" hidden><div class=\"sk-item\"><div class=\"sk-estimator sk-toggleable\"><input class=\"sk-toggleable__control sk-hidden--visually\" id=\"sk-estimator-id-2\" type=\"checkbox\" checked><label for=\"sk-estimator-id-2\" class=\"sk-toggleable__label sk-toggleable__label-arrow\">XGBClassifier</label><div class=\"sk-toggleable__content\"><pre>XGBClassifier(base_score=None, booster=None, callbacks=None,\n",
       "              colsample_bylevel=None, colsample_bynode=None,\n",
       "              colsample_bytree=None, device=None, early_stopping_rounds=None,\n",
       "              enable_categorical=False, eval_metric=None, feature_types=None,\n",
       "              gamma=None, grow_policy=None, importance_type=None,\n",
       "              interaction_constraints=None, learning_rate=1, max_bin=None,\n",
       "              max_cat_threshold=None, max_cat_to_onehot=None,\n",
       "              max_delta_step=None, max_depth=None, max_leaves=None,\n",
       "              min_child_weight=None, missing=nan, monotone_constraints=None,\n",
       "              multi_strategy=None, n_estimators=200, n_jobs=None,\n",
       "              num_parallel_tree=None, objective=&#x27;multi:softprob&#x27;, ...)</pre></div></div></div></div></div>"
      ],
      "text/plain": [
       "XGBClassifier(base_score=None, booster=None, callbacks=None,\n",
       "              colsample_bylevel=None, colsample_bynode=None,\n",
       "              colsample_bytree=None, device=None, early_stopping_rounds=None,\n",
       "              enable_categorical=False, eval_metric=None, feature_types=None,\n",
       "              gamma=None, grow_policy=None, importance_type=None,\n",
       "              interaction_constraints=None, learning_rate=1, max_bin=None,\n",
       "              max_cat_threshold=None, max_cat_to_onehot=None,\n",
       "              max_delta_step=None, max_depth=None, max_leaves=None,\n",
       "              min_child_weight=None, missing=nan, monotone_constraints=None,\n",
       "              multi_strategy=None, n_estimators=200, n_jobs=None,\n",
       "              num_parallel_tree=None, objective='multi:softprob', ...)"
      ]
     },
     "execution_count": 19,
     "metadata": {},
     "output_type": "execute_result"
    }
   ],
   "source": [
    "best_model.fit(X_train_scaled, y_tr_tr_balanced_smote)"
   ]
  },
  {
   "cell_type": "markdown",
   "metadata": {},
   "source": [
    "## Model Evaluation"
   ]
  },
  {
   "cell_type": "code",
   "execution_count": 21,
   "metadata": {},
   "outputs": [
    {
     "name": "stdout",
     "output_type": "stream",
     "text": [
      "Validation Metrics:\n",
      "Accuracy: 0.9615384615384616\n",
      "Precision: 0.9589180050718513\n",
      "Recall: 0.9615384615384616\n",
      "F1 Score: 0.9573792985164221\n",
      "AUC Score: 0.9685459684581547\n"
     ]
    }
   ],
   "source": [
    "from sklearn.metrics import accuracy_score, precision_score, recall_score, f1_score, roc_auc_score\n",
    "\n",
    "y_val_pred_proba = best_model.predict_proba(X_val_scaled)\n",
    "\n",
    "y_val_pred = best_model.predict(X_val_scaled)\n",
    "\n",
    "accuracy_val = accuracy_score(y_val_tr, y_val_pred)\n",
    "precision_val = precision_score(y_val_tr, y_val_pred, average='weighted')\n",
    "recall_val = recall_score(y_val_tr, y_val_pred, average='weighted')\n",
    "f1_val = f1_score(y_val_tr, y_val_pred, average='weighted')\n",
    "auc_val = roc_auc_score(y_val_tr, y_val_pred_proba, multi_class='ovr')\n",
    "\n",
    "print(\"Validation Metrics:\")\n",
    "print(\"Accuracy:\", accuracy_val)\n",
    "print(\"Precision:\", precision_val)\n",
    "print(\"Recall:\", recall_val)\n",
    "print(\"F1 Score:\", f1_val)\n",
    "print(\"AUC Score:\", auc_val)"
   ]
  },
  {
   "cell_type": "code",
   "execution_count": 22,
   "metadata": {},
   "outputs": [
    {
     "name": "stdout",
     "output_type": "stream",
     "text": [
      "Test Metrics:\n",
      "Accuracy: 0.9798488664987406\n",
      "Precision: 0.9783299592211258\n",
      "Recall: 0.9798488664987406\n",
      "F1 Score: 0.9784632361760827\n",
      "AUC Score: 0.9840589003117238\n"
     ]
    }
   ],
   "source": [
    "y_test_pred_proba = best_model.predict_proba(X_test_scaled)\n",
    "\n",
    "y_test_pred = best_model.predict(X_test_scaled)\n",
    "\n",
    "accuracy_test = accuracy_score(Y_test, y_test_pred)\n",
    "precision_test = precision_score(Y_test, y_test_pred, average='weighted')\n",
    "recall_test = recall_score(Y_test, y_test_pred, average='weighted')\n",
    "f1_test = f1_score(Y_test, y_test_pred, average='weighted')\n",
    "auc_test = roc_auc_score(Y_test, y_test_pred_proba, multi_class='ovr')\n",
    "\n",
    "print(\"Test Metrics:\")\n",
    "print(\"Accuracy:\", accuracy_test)\n",
    "print(\"Precision:\", precision_test)\n",
    "print(\"Recall:\", recall_test)\n",
    "print(\"F1 Score:\", f1_test)\n",
    "print(\"AUC Score:\", auc_test)"
   ]
  },
  {
   "cell_type": "markdown",
   "metadata": {},
   "source": [
    "### Validation Metrics:\n",
    "- **Accuracy:** The model correctly predicts about 96.15% of the validation data samples.\n",
    "- **Precision:** When the model predicts a positive class label, it is correct about 95.89% of the time on average.\n",
    "- **Recall:** The model identifies around 96.15% of the actual positive class instances in the validation dataset.\n",
    "- **F1 Score:** The F1 score, which combines precision and recall, is approximately 95.74%.\n",
    "- **AUC Score:** The high AUC score of 96.85% indicates that the model has strong discriminatory power between the positive and negative classes.\n",
    "\n",
    "### Test Metrics:\n",
    "- **Accuracy:** On the test dataset, the model achieves an accuracy of 97.98%.\n",
    "- **Precision:** With a precision score of 97.83%, the model maintains a high level of accuracy when predicting positive class instances on the test data.\n",
    "- **Recall:** The model captures about 97.98% of the actual positive class instances in the test dataset.\n",
    "- **F1 Score:** The F1 score of 97.85% on the test data suggests a good balance between precision and recall.\n",
    "- **AUC Score:** Despite being evaluated on unseen data, the AUC score of 98.41% on the test dataset indicates that the model's discriminatory power remains strong."
   ]
  },
  {
   "cell_type": "code",
   "execution_count": 23,
   "metadata": {},
   "outputs": [
    {
     "data": {
      "image/png": "[encoded data removed]",
      "text/plain": [
       "<Figure size 800x600 with 2 Axes>"
      ]
     },
     "metadata": {},
     "output_type": "display_data"
    }
   ],
   "source": [
    "import matplotlib.pyplot as plt\n",
    "import seaborn as sns\n",
    "from sklearn.metrics import confusion_matrix\n",
    "\n",
    "cm = confusion_matrix(Y_test, y_test_pred)\n",
    "\n",
    "plt.figure(figsize=(8, 6))\n",
    "sns.heatmap(cm, annot=True, fmt='d', cmap='Blues', xticklabels=['Android', 'iOS', 'Others'], yticklabels=['Android', 'iOS', 'Others'])\n",
    "plt.xlabel('Predicted labels')\n",
    "plt.ylabel('True labels')\n",
    "plt.title('Confusion Matrix - Test Data')\n",
    "plt.show()"
   ]
  },
  {
   "cell_type": "markdown",
   "metadata": {},
   "source": [
    "### Precision, Recall F1 score for each class"
   ]
  },
  {
   "cell_type": "code",
   "execution_count": 24,
   "metadata": {},
   "outputs": [],
   "source": [
    "from sklearn.metrics import precision_score, recall_score, f1_score\n",
    "\n",
    "def calculate_class_metrics(y_true, y_pred, class_labels):\n",
    "    metrics = {}\n",
    "    for label in class_labels:\n",
    "        precision = precision_score(y_true == label, y_pred == label, average='binary')\n",
    "        recall = recall_score(y_true == label, y_pred == label, average='binary')\n",
    "        f1 = f1_score(y_true == label, y_pred == label, average='binary')\n",
    "        metrics[label] = {'precision': precision, 'recall': recall, 'f1': f1}\n",
    "    return metrics"
   ]
  },
  {
   "cell_type": "code",
   "execution_count": 25,
   "metadata": {},
   "outputs": [
    {
     "name": "stdout",
     "output_type": "stream",
     "text": [
      "Metrics for Class 0:\n",
      "Precision: 0.9840848806366048\n",
      "Recall: 0.9946380697050938\n",
      "F1 Score: 0.9893333333333334\n",
      "\n",
      "Metrics for Class 1:\n",
      "Precision: 0.8333333333333334\n",
      "Recall: 0.625\n",
      "F1 Score: 0.7142857142857143\n",
      "\n",
      "Metrics for Class 2:\n",
      "Precision: 1.0\n",
      "Recall: 1.0\n",
      "F1 Score: 1.0\n",
      "\n"
     ]
    }
   ],
   "source": [
    "class_labels = [0, 1, 2]\n",
    "metrics = calculate_class_metrics(Y_test, y_test_pred, class_labels)\n",
    "\n",
    "for label, values in metrics.items():\n",
    "    print(f\"Metrics for Class {label}:\")\n",
    "    print(\"Precision:\", values['precision'])\n",
    "    print(\"Recall:\", values['recall'])\n",
    "    print(\"F1 Score:\", values['f1'])\n",
    "    print()"
   ]
  },
  {
   "cell_type": "markdown",
   "metadata": {},
   "source": [
    "# Part 2"
   ]
  },
  {
   "cell_type": "markdown",
   "metadata": {},
   "source": [
    "We just need to change the 'battery_capacity' in Selected_features to 'battery_capacity Cat'"
   ]
  },
  {
   "cell_type": "code",
   "execution_count": 26,
   "metadata": {},
   "outputs": [
    {
     "name": "stdout",
     "output_type": "stream",
     "text": [
      "Scaler: StandardScaler, Classifier: Decision Tree\n",
      "Best Score: 0.9444053486520589\n",
      "Best Parameters: {'max_depth': 3}\n",
      "\n",
      "Scaler: StandardScaler, Classifier: Random Forest\n",
      "Best Score: 0.9461850575890765\n",
      "Best Parameters: {'n_estimators': 200}\n",
      "\n",
      "Scaler: StandardScaler, Classifier: AdaBoost\n",
      "Best Score: 0.9168782708117899\n",
      "Best Parameters: {'learning_rate': 0.1, 'n_estimators': 100}\n",
      "\n",
      "Scaler: StandardScaler, Classifier: XGBoost\n",
      "Best Score: 0.9478123640984224\n",
      "Best Parameters: {'learning_rate': 0.1, 'n_estimators': 50}\n",
      "\n",
      "Scaler: MinMaxScaler, Classifier: Decision Tree\n",
      "Best Score: 0.9444053486520589\n",
      "Best Parameters: {'max_depth': 3}\n",
      "\n",
      "Scaler: MinMaxScaler, Classifier: Random Forest\n",
      "Best Score: 0.9403032648719896\n",
      "Best Parameters: {'n_estimators': 100}\n",
      "\n",
      "Scaler: MinMaxScaler, Classifier: AdaBoost\n",
      "Best Score: 0.9168782708117899\n",
      "Best Parameters: {'learning_rate': 0.1, 'n_estimators': 100}\n",
      "\n",
      "Scaler: MinMaxScaler, Classifier: XGBoost\n",
      "Best Score: 0.9478123640984224\n",
      "Best Parameters: {'learning_rate': 0.1, 'n_estimators': 50}\n",
      "\n"
     ]
    }
   ],
   "source": [
    "from sklearn.preprocessing import StandardScaler, MinMaxScaler\n",
    "\n",
    "selected_features = ['brand', '5G', '4G', 'battery_capacity Cat', 'CPU', 'GPU', 'WLAN_COUNT', 'Chipset', 'SIM_Micro-SIM', 'SIM_Mini-SIM', 'SIM_Nano-SIM',\n",
    "       'SIM_eSIM', 'Display Type_AMOLED', 'Display Type_LCD',\n",
    "       'Display Type_OLED', 'Display Type_Others', 'Display Type_Retina',\n",
    "       'Display Type_TFT', 'Display Size Cat']\n",
    "\n",
    "X_train_selected = X_tr_tr_balanced_smote[selected_features]\n",
    "\n",
    "scaler_standard = StandardScaler()\n",
    "scaler_minmax = MinMaxScaler()\n",
    "\n",
    "\n",
    "X_val_selected = X_val_tr[selected_features]\n",
    "\n",
    "\n",
    "X_test_selected = X_test[selected_features]\n",
    "\n",
    "\n",
    "from sklearn.model_selection import GridSearchCV\n",
    "from sklearn.tree import DecisionTreeClassifier\n",
    "from sklearn.ensemble import RandomForestClassifier, AdaBoostClassifier\n",
    "from xgboost import XGBClassifier\n",
    "\n",
    "classifiers = {\n",
    "    'Decision Tree': DecisionTreeClassifier(),\n",
    "    'Random Forest': RandomForestClassifier(),\n",
    "    'AdaBoost': AdaBoostClassifier(),\n",
    "    'XGBoost': XGBClassifier()\n",
    "}\n",
    "\n",
    "param_grids = {\n",
    "    'Decision Tree': {\n",
    "        'max_depth': [3, 5, 7]\n",
    "    },\n",
    "    'Random Forest': {\n",
    "        'n_estimators': [50, 100, 200]\n",
    "    },\n",
    "    'AdaBoost': {\n",
    "        'n_estimators': [50, 100, 200],\n",
    "        'learning_rate': [0.01, 0.1, 1]\n",
    "    },\n",
    "    'XGBoost': {\n",
    "        'n_estimators': [50, 100, 200],\n",
    "        'learning_rate': [0.01, 0.1, 1]\n",
    "    }\n",
    "}\n",
    "\n",
    "results = {}\n",
    "\n",
    "for scaler_name, scaler in [('StandardScaler', scaler_standard), ('MinMaxScaler', scaler_minmax)]:\n",
    "    X_val_scaled = scaler.fit_transform(X_val_selected) \n",
    "    for clf_name, clf in classifiers.items():\n",
    "        grid_search = GridSearchCV(clf, param_grids[clf_name], cv=5, scoring='f1_weighted')\n",
    "        grid_search.fit(X_val_scaled, y_val_tr) \n",
    "        results[(scaler_name, clf_name)] = grid_search\n",
    "        \n",
    "        print(f\"Scaler: {scaler_name}, Classifier: {clf_name}\")\n",
    "        print(\"Best Score:\", grid_search.best_score_)\n",
    "        print(\"Best Parameters:\", grid_search.best_params_)\n",
    "        print()"
   ]
  },
  {
   "cell_type": "code",
   "execution_count": 27,
   "metadata": {},
   "outputs": [],
   "source": [
    "best_scores = {}\n",
    "best_params = {}\n",
    "for (scaler_name, clf_name), grid_search in results.items():\n",
    "    best_scores[(scaler_name, clf_name)] = grid_search.best_score_\n",
    "    best_params[(scaler_name, clf_name)] = grid_search.best_params_"
   ]
  },
  {
   "cell_type": "code",
   "execution_count": 28,
   "metadata": {},
   "outputs": [
    {
     "data": {
      "text/html": [
       "<style>#sk-container-id-3 {color: black;}#sk-container-id-3 pre{padding: 0;}#sk-container-id-3 div.sk-toggleable {background-color: white;}#sk-container-id-3 label.sk-toggleable__label {cursor: pointer;display: block;width: 100%;margin-bottom: 0;padding: 0.3em;box-sizing: border-box;text-align: center;}#sk-container-id-3 label.sk-toggleable__label-arrow:before {content: \"▸\";float: left;margin-right: 0.25em;color: #696969;}#sk-container-id-3 label.sk-toggleable__label-arrow:hover:before {color: black;}#sk-container-id-3 div.sk-estimator:hover label.sk-toggleable__label-arrow:before {color: black;}#sk-container-id-3 div.sk-toggleable__content {max-height: 0;max-width: 0;overflow: hidden;text-align: left;background-color: #f0f8ff;}#sk-container-id-3 div.sk-toggleable__content pre {margin: 0.2em;color: black;border-radius: 0.25em;background-color: #f0f8ff;}#sk-container-id-3 input.sk-toggleable__control:checked~div.sk-toggleable__content {max-height: 200px;max-width: 100%;overflow: auto;}#sk-container-id-3 input.sk-toggleable__control:checked~label.sk-toggleable__label-arrow:before {content: \"▾\";}#sk-container-id-3 div.sk-estimator input.sk-toggleable__control:checked~label.sk-toggleable__label {background-color: #d4ebff;}#sk-container-id-3 div.sk-label input.sk-toggleable__control:checked~label.sk-toggleable__label {background-color: #d4ebff;}#sk-container-id-3 input.sk-hidden--visually {border: 0;clip: rect(1px 1px 1px 1px);clip: rect(1px, 1px, 1px, 1px);height: 1px;margin: -1px;overflow: hidden;padding: 0;position: absolute;width: 1px;}#sk-container-id-3 div.sk-estimator {font-family: monospace;background-color: #f0f8ff;border: 1px dotted black;border-radius: 0.25em;box-sizing: border-box;margin-bottom: 0.5em;}#sk-container-id-3 div.sk-estimator:hover {background-color: #d4ebff;}#sk-container-id-3 div.sk-parallel-item::after {content: \"\";width: 100%;border-bottom: 1px solid gray;flex-grow: 1;}#sk-container-id-3 div.sk-label:hover label.sk-toggleable__label {background-color: #d4ebff;}#sk-container-id-3 div.sk-serial::before {content: \"\";position: absolute;border-left: 1px solid gray;box-sizing: border-box;top: 0;bottom: 0;left: 50%;z-index: 0;}#sk-container-id-3 div.sk-serial {display: flex;flex-direction: column;align-items: center;background-color: white;padding-right: 0.2em;padding-left: 0.2em;position: relative;}#sk-container-id-3 div.sk-item {position: relative;z-index: 1;}#sk-container-id-3 div.sk-parallel {display: flex;align-items: stretch;justify-content: center;background-color: white;position: relative;}#sk-container-id-3 div.sk-item::before, #sk-container-id-3 div.sk-parallel-item::before {content: \"\";position: absolute;border-left: 1px solid gray;box-sizing: border-box;top: 0;bottom: 0;left: 50%;z-index: -1;}#sk-container-id-3 div.sk-parallel-item {display: flex;flex-direction: column;z-index: 1;position: relative;background-color: white;}#sk-container-id-3 div.sk-parallel-item:first-child::after {align-self: flex-end;width: 50%;}#sk-container-id-3 div.sk-parallel-item:last-child::after {align-self: flex-start;width: 50%;}#sk-container-id-3 div.sk-parallel-item:only-child::after {width: 0;}#sk-container-id-3 div.sk-dashed-wrapped {border: 1px dashed gray;margin: 0 0.4em 0.5em 0.4em;box-sizing: border-box;padding-bottom: 0.4em;background-color: white;}#sk-container-id-3 div.sk-label label {font-family: monospace;font-weight: bold;display: inline-block;line-height: 1.2em;}#sk-container-id-3 div.sk-label-container {text-align: center;}#sk-container-id-3 div.sk-container {/* jupyter's `normalize.less` sets `[hidden] { display: none; }` but bootstrap.min.css set `[hidden] { display: none !important; }` so we also need the `!important` here to be able to override the default hidden behavior on the sphinx rendered scikit-learn.org. See: https://github.com/scikit-learn/scikit-learn/issues/21755 */display: inline-block !important;position: relative;}#sk-container-id-3 div.sk-text-repr-fallback {display: none;}</style><div id=\"sk-container-id-3\" class=\"sk-top-container\"><div class=\"sk-text-repr-fallback\"><pre>XGBClassifier(base_score=None, booster=None, callbacks=None,\n",
       "              colsample_bylevel=None, colsample_bynode=None,\n",
       "              colsample_bytree=None, device=None, early_stopping_rounds=None,\n",
       "              enable_categorical=False, eval_metric=None, feature_types=None,\n",
       "              gamma=None, grow_policy=None, importance_type=None,\n",
       "              interaction_constraints=None, learning_rate=0.1, max_bin=None,\n",
       "              max_cat_threshold=None, max_cat_to_onehot=None,\n",
       "              max_delta_step=None, max_depth=None, max_leaves=None,\n",
       "              min_child_weight=None, missing=nan, monotone_constraints=None,\n",
       "              multi_strategy=None, n_estimators=50, n_jobs=None,\n",
       "              num_parallel_tree=None, objective=&#x27;multi:softprob&#x27;, ...)</pre><b>In a Jupyter environment, please rerun this cell to show the HTML representation or trust the notebook. <br />On GitHub, the HTML representation is unable to render, please try loading this page with nbviewer.org.</b></div><div class=\"sk-container\" hidden><div class=\"sk-item\"><div class=\"sk-estimator sk-toggleable\"><input class=\"sk-toggleable__control sk-hidden--visually\" id=\"sk-estimator-id-3\" type=\"checkbox\" checked><label for=\"sk-estimator-id-3\" class=\"sk-toggleable__label sk-toggleable__label-arrow\">XGBClassifier</label><div class=\"sk-toggleable__content\"><pre>XGBClassifier(base_score=None, booster=None, callbacks=None,\n",
       "              colsample_bylevel=None, colsample_bynode=None,\n",
       "              colsample_bytree=None, device=None, early_stopping_rounds=None,\n",
       "              enable_categorical=False, eval_metric=None, feature_types=None,\n",
       "              gamma=None, grow_policy=None, importance_type=None,\n",
       "              interaction_constraints=None, learning_rate=0.1, max_bin=None,\n",
       "              max_cat_threshold=None, max_cat_to_onehot=None,\n",
       "              max_delta_step=None, max_depth=None, max_leaves=None,\n",
       "              min_child_weight=None, missing=nan, monotone_constraints=None,\n",
       "              multi_strategy=None, n_estimators=50, n_jobs=None,\n",
       "              num_parallel_tree=None, objective=&#x27;multi:softprob&#x27;, ...)</pre></div></div></div></div></div>"
      ],
      "text/plain": [
       "XGBClassifier(base_score=None, booster=None, callbacks=None,\n",
       "              colsample_bylevel=None, colsample_bynode=None,\n",
       "              colsample_bytree=None, device=None, early_stopping_rounds=None,\n",
       "              enable_categorical=False, eval_metric=None, feature_types=None,\n",
       "              gamma=None, grow_policy=None, importance_type=None,\n",
       "              interaction_constraints=None, learning_rate=0.1, max_bin=None,\n",
       "              max_cat_threshold=None, max_cat_to_onehot=None,\n",
       "              max_delta_step=None, max_depth=None, max_leaves=None,\n",
       "              min_child_weight=None, missing=nan, monotone_constraints=None,\n",
       "              multi_strategy=None, n_estimators=50, n_jobs=None,\n",
       "              num_parallel_tree=None, objective='multi:softprob', ...)"
      ]
     },
     "execution_count": 28,
     "metadata": {},
     "output_type": "execute_result"
    }
   ],
   "source": [
    "best_model_key = max(best_scores, key=best_scores.get)\n",
    "best_model = results[best_model_key].best_estimator_\n",
    "best_model"
   ]
  },
  {
   "cell_type": "code",
   "execution_count": 29,
   "metadata": {},
   "outputs": [
    {
     "data": {
      "text/html": [
       "<style>#sk-container-id-4 {color: black;}#sk-container-id-4 pre{padding: 0;}#sk-container-id-4 div.sk-toggleable {background-color: white;}#sk-container-id-4 label.sk-toggleable__label {cursor: pointer;display: block;width: 100%;margin-bottom: 0;padding: 0.3em;box-sizing: border-box;text-align: center;}#sk-container-id-4 label.sk-toggleable__label-arrow:before {content: \"▸\";float: left;margin-right: 0.25em;color: #696969;}#sk-container-id-4 label.sk-toggleable__label-arrow:hover:before {color: black;}#sk-container-id-4 div.sk-estimator:hover label.sk-toggleable__label-arrow:before {color: black;}#sk-container-id-4 div.sk-toggleable__content {max-height: 0;max-width: 0;overflow: hidden;text-align: left;background-color: #f0f8ff;}#sk-container-id-4 div.sk-toggleable__content pre {margin: 0.2em;color: black;border-radius: 0.25em;background-color: #f0f8ff;}#sk-container-id-4 input.sk-toggleable__control:checked~div.sk-toggleable__content {max-height: 200px;max-width: 100%;overflow: auto;}#sk-container-id-4 input.sk-toggleable__control:checked~label.sk-toggleable__label-arrow:before {content: \"▾\";}#sk-container-id-4 div.sk-estimator input.sk-toggleable__control:checked~label.sk-toggleable__label {background-color: #d4ebff;}#sk-container-id-4 div.sk-label input.sk-toggleable__control:checked~label.sk-toggleable__label {background-color: #d4ebff;}#sk-container-id-4 input.sk-hidden--visually {border: 0;clip: rect(1px 1px 1px 1px);clip: rect(1px, 1px, 1px, 1px);height: 1px;margin: -1px;overflow: hidden;padding: 0;position: absolute;width: 1px;}#sk-container-id-4 div.sk-estimator {font-family: monospace;background-color: #f0f8ff;border: 1px dotted black;border-radius: 0.25em;box-sizing: border-box;margin-bottom: 0.5em;}#sk-container-id-4 div.sk-estimator:hover {background-color: #d4ebff;}#sk-container-id-4 div.sk-parallel-item::after {content: \"\";width: 100%;border-bottom: 1px solid gray;flex-grow: 1;}#sk-container-id-4 div.sk-label:hover label.sk-toggleable__label {background-color: #d4ebff;}#sk-container-id-4 div.sk-serial::before {content: \"\";position: absolute;border-left: 1px solid gray;box-sizing: border-box;top: 0;bottom: 0;left: 50%;z-index: 0;}#sk-container-id-4 div.sk-serial {display: flex;flex-direction: column;align-items: center;background-color: white;padding-right: 0.2em;padding-left: 0.2em;position: relative;}#sk-container-id-4 div.sk-item {position: relative;z-index: 1;}#sk-container-id-4 div.sk-parallel {display: flex;align-items: stretch;justify-content: center;background-color: white;position: relative;}#sk-container-id-4 div.sk-item::before, #sk-container-id-4 div.sk-parallel-item::before {content: \"\";position: absolute;border-left: 1px solid gray;box-sizing: border-box;top: 0;bottom: 0;left: 50%;z-index: -1;}#sk-container-id-4 div.sk-parallel-item {display: flex;flex-direction: column;z-index: 1;position: relative;background-color: white;}#sk-container-id-4 div.sk-parallel-item:first-child::after {align-self: flex-end;width: 50%;}#sk-container-id-4 div.sk-parallel-item:last-child::after {align-self: flex-start;width: 50%;}#sk-container-id-4 div.sk-parallel-item:only-child::after {width: 0;}#sk-container-id-4 div.sk-dashed-wrapped {border: 1px dashed gray;margin: 0 0.4em 0.5em 0.4em;box-sizing: border-box;padding-bottom: 0.4em;background-color: white;}#sk-container-id-4 div.sk-label label {font-family: monospace;font-weight: bold;display: inline-block;line-height: 1.2em;}#sk-container-id-4 div.sk-label-container {text-align: center;}#sk-container-id-4 div.sk-container {/* jupyter's `normalize.less` sets `[hidden] { display: none; }` but bootstrap.min.css set `[hidden] { display: none !important; }` so we also need the `!important` here to be able to override the default hidden behavior on the sphinx rendered scikit-learn.org. See: https://github.com/scikit-learn/scikit-learn/issues/21755 */display: inline-block !important;position: relative;}#sk-container-id-4 div.sk-text-repr-fallback {display: none;}</style><div id=\"sk-container-id-4\" class=\"sk-top-container\"><div class=\"sk-text-repr-fallback\"><pre>XGBClassifier(base_score=None, booster=None, callbacks=None,\n",
       "              colsample_bylevel=None, colsample_bynode=None,\n",
       "              colsample_bytree=None, device=None, early_stopping_rounds=None,\n",
       "              enable_categorical=False, eval_metric=None, feature_types=None,\n",
       "              gamma=None, grow_policy=None, importance_type=None,\n",
       "              interaction_constraints=None, learning_rate=0.1, max_bin=None,\n",
       "              max_cat_threshold=None, max_cat_to_onehot=None,\n",
       "              max_delta_step=None, max_depth=None, max_leaves=None,\n",
       "              min_child_weight=None, missing=nan, monotone_constraints=None,\n",
       "              multi_strategy=None, n_estimators=50, n_jobs=None,\n",
       "              num_parallel_tree=None, objective=&#x27;multi:softprob&#x27;, ...)</pre><b>In a Jupyter environment, please rerun this cell to show the HTML representation or trust the notebook. <br />On GitHub, the HTML representation is unable to render, please try loading this page with nbviewer.org.</b></div><div class=\"sk-container\" hidden><div class=\"sk-item\"><div class=\"sk-estimator sk-toggleable\"><input class=\"sk-toggleable__control sk-hidden--visually\" id=\"sk-estimator-id-4\" type=\"checkbox\" checked><label for=\"sk-estimator-id-4\" class=\"sk-toggleable__label sk-toggleable__label-arrow\">XGBClassifier</label><div class=\"sk-toggleable__content\"><pre>XGBClassifier(base_score=None, booster=None, callbacks=None,\n",
       "              colsample_bylevel=None, colsample_bynode=None,\n",
       "              colsample_bytree=None, device=None, early_stopping_rounds=None,\n",
       "              enable_categorical=False, eval_metric=None, feature_types=None,\n",
       "              gamma=None, grow_policy=None, importance_type=None,\n",
       "              interaction_constraints=None, learning_rate=0.1, max_bin=None,\n",
       "              max_cat_threshold=None, max_cat_to_onehot=None,\n",
       "              max_delta_step=None, max_depth=None, max_leaves=None,\n",
       "              min_child_weight=None, missing=nan, monotone_constraints=None,\n",
       "              multi_strategy=None, n_estimators=50, n_jobs=None,\n",
       "              num_parallel_tree=None, objective=&#x27;multi:softprob&#x27;, ...)</pre></div></div></div></div></div>"
      ],
      "text/plain": [
       "XGBClassifier(base_score=None, booster=None, callbacks=None,\n",
       "              colsample_bylevel=None, colsample_bynode=None,\n",
       "              colsample_bytree=None, device=None, early_stopping_rounds=None,\n",
       "              enable_categorical=False, eval_metric=None, feature_types=None,\n",
       "              gamma=None, grow_policy=None, importance_type=None,\n",
       "              interaction_constraints=None, learning_rate=0.1, max_bin=None,\n",
       "              max_cat_threshold=None, max_cat_to_onehot=None,\n",
       "              max_delta_step=None, max_depth=None, max_leaves=None,\n",
       "              min_child_weight=None, missing=nan, monotone_constraints=None,\n",
       "              multi_strategy=None, n_estimators=50, n_jobs=None,\n",
       "              num_parallel_tree=None, objective='multi:softprob', ...)"
      ]
     },
     "execution_count": 29,
     "metadata": {},
     "output_type": "execute_result"
    }
   ],
   "source": [
    "X_train_scaled = scaler_standard.fit_transform(X_train_selected)\n",
    "\n",
    "X_val_scaled = scaler_standard.transform(X_val_selected)\n",
    "\n",
    "X_test_scaled = scaler_standard.transform(X_test_selected)\n",
    "\n",
    "best_model.fit(X_train_scaled, y_tr_tr_balanced_smote)"
   ]
  },
  {
   "cell_type": "code",
   "execution_count": 30,
   "metadata": {},
   "outputs": [
    {
     "name": "stdout",
     "output_type": "stream",
     "text": [
      "Validation Metrics:\n",
      "Accuracy: 0.9615384615384616\n",
      "Precision: 0.9608341175672018\n",
      "Recall: 0.9615384615384616\n",
      "F1 Score: 0.9611606678004927\n",
      "AUC Score: 0.9686820256234129\n"
     ]
    }
   ],
   "source": [
    "y_val_pred_proba = best_model.predict_proba(X_val_scaled)\n",
    "\n",
    "y_val_pred = best_model.predict(X_val_scaled)\n",
    "\n",
    "accuracy_val = accuracy_score(y_val_tr, y_val_pred)\n",
    "precision_val = precision_score(y_val_tr, y_val_pred, average='weighted')\n",
    "recall_val = recall_score(y_val_tr, y_val_pred, average='weighted')\n",
    "f1_val = f1_score(y_val_tr, y_val_pred, average='weighted')\n",
    "auc_val = roc_auc_score(y_val_tr, y_val_pred_proba, multi_class='ovr')\n",
    "\n",
    "print(\"Validation Metrics:\")\n",
    "print(\"Accuracy:\", accuracy_val)\n",
    "print(\"Precision:\", precision_val)\n",
    "print(\"Recall:\", recall_val)\n",
    "print(\"F1 Score:\", f1_val)\n",
    "print(\"AUC Score:\", auc_val)"
   ]
  },
  {
   "cell_type": "code",
   "execution_count": 31,
   "metadata": {},
   "outputs": [
    {
     "name": "stdout",
     "output_type": "stream",
     "text": [
      "Test Metrics:\n",
      "Accuracy: 0.9722921914357683\n",
      "Precision: 0.9731473559603415\n",
      "Recall: 0.9722921914357683\n",
      "F1 Score: 0.9726934108723705\n",
      "AUC Score: 0.9820786686181654\n"
     ]
    }
   ],
   "source": [
    "y_test_pred_proba = best_model.predict_proba(X_test_scaled)\n",
    "\n",
    "y_test_pred = best_model.predict(X_test_scaled)\n",
    "\n",
    "accuracy_test = accuracy_score(Y_test, y_test_pred)\n",
    "precision_test = precision_score(Y_test, y_test_pred, average='weighted')\n",
    "recall_test = recall_score(Y_test, y_test_pred, average='weighted')\n",
    "f1_test = f1_score(Y_test, y_test_pred, average='weighted')\n",
    "auc_test = roc_auc_score(Y_test, y_test_pred_proba, multi_class='ovr')\n",
    "\n",
    "print(\"Test Metrics:\")\n",
    "print(\"Accuracy:\", accuracy_test)\n",
    "print(\"Precision:\", precision_test)\n",
    "print(\"Recall:\", recall_test)\n",
    "print(\"F1 Score:\", f1_test)\n",
    "print(\"AUC Score:\", auc_test)"
   ]
  },
  {
   "cell_type": "code",
   "execution_count": 32,
   "metadata": {},
   "outputs": [
    {
     "data": {
      "image/png": "[encoded data removed]",
      "text/plain": [
       "<Figure size 800x600 with 2 Axes>"
      ]
     },
     "metadata": {},
     "output_type": "display_data"
    }
   ],
   "source": [
    "import matplotlib.pyplot as plt\n",
    "import seaborn as sns\n",
    "from sklearn.metrics import confusion_matrix\n",
    "\n",
    "cm = confusion_matrix(Y_test, y_test_pred)\n",
    "\n",
    "plt.figure(figsize=(8, 6))\n",
    "sns.heatmap(cm, annot=True, fmt='d', cmap='Blues', xticklabels=['Android', 'iOS', 'Others'], yticklabels=['Android', 'iOS', 'Others'])\n",
    "plt.xlabel('Predicted labels')\n",
    "plt.ylabel('True labels')\n",
    "plt.title('Confusion Matrix - Test Data')\n",
    "plt.show()"
   ]
  },
  {
   "cell_type": "markdown",
   "metadata": {},
   "source": [
    "### Precision, Recall F1 score for each class"
   ]
  },
  {
   "cell_type": "code",
   "execution_count": 33,
   "metadata": {},
   "outputs": [
    {
     "name": "stdout",
     "output_type": "stream",
     "text": [
      "Metrics for Class 0:\n",
      "Precision: 0.9865591397849462\n",
      "Recall: 0.9839142091152815\n",
      "F1 Score: 0.985234899328859\n",
      "\n",
      "Metrics for Class 1:\n",
      "Precision: 0.6470588235294118\n",
      "Recall: 0.6875\n",
      "F1 Score: 0.6666666666666667\n",
      "\n",
      "Metrics for Class 2:\n",
      "Precision: 1.0\n",
      "Recall: 1.0\n",
      "F1 Score: 1.0\n",
      "\n"
     ]
    }
   ],
   "source": [
    "class_labels = [0, 1, 2]\n",
    "metrics = calculate_class_metrics(Y_test, y_test_pred, class_labels)\n",
    "\n",
    "for label, values in metrics.items():\n",
    "    print(f\"Metrics for Class {label}:\")\n",
    "    print(\"Precision:\", values['precision'])\n",
    "    print(\"Recall:\", values['recall'])\n",
    "    print(\"F1 Score:\", values['f1'])\n",
    "    print()"
   ]
  },
  {
   "cell_type": "markdown",
   "metadata": {},
   "source": [
    "#### Part 2: Battery Capacity as Categorical Feature\n",
    "- **Validation Metrics:**\n",
    "  - **Accuracy:** After converting battery capacity into categorical features, the model achieved a slightly higher accuracy of around 96.15% on the validation dataset compared to Part 1.\n",
    "  - **Precision:** The precision score increased slightly to approximately 96.08%, indicating a higher proportion of correct positive predictions.\n",
    "  - **Recall:** The recall score remained consistent at about 96.15%.\n",
    "  - **F1 Score:** The F1 score, indicating the balance between precision and recall, is approximately 96.12%.\n",
    "  - **AUC Score:** Despite the slight increase in accuracy, the AUC score decreased slightly to 96.87%, but still indicates strong discriminatory power.\n",
    "\n",
    "- **Test Metrics:**\n",
    "  - On the test dataset, the model achieved an accuracy of approximately 97.23%.\n",
    "  - However, the precision, recall, F1 score, and AUC score on the test set are still relatively high, indicating robust performance of the model even after converting battery capacity into categorical features.\n",
    "\n",
    "Overall, converting battery capacity into categorical features resulted in a slight improvement in some metrics on the validation dataset, but the impact on the test dataset is less pronounced."
   ]
  },
  {
   "cell_type": "markdown",
   "metadata": {},
   "source": [
    "Reduced Discriminatory Power: Categorical representations may oversimplify the relationship between battery capacity and OS, leading to less discriminatory power in the model. By grouping battery capacities into broad categories, the model may struggle to differentiate between devices with similar battery capacities but different OS classes."
   ]
  }
 ],
 "metadata": {
  "kernelspec": {
   "display_name": "base",
   "language": "python",
   "name": "python3"
  },
  "language_info": {
   "codemirror_mode": {
    "name": "ipython",
    "version": 3
   },
   "file_extension": ".py",
   "mimetype": "text/x-python",
   "name": "python",
   "nbconvert_exporter": "python",
   "pygments_lexer": "ipython3",
   "version": "3.11.5"
  }
 },
 "nbformat": 4,
 "nbformat_minor": 2
}
