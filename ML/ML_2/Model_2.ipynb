{
 "cells": [
  {
   "cell_type": "code",
   "execution_count": 1,
   "metadata": {},
   "outputs": [],
   "source": [
    "import numpy as np\n",
    "import pandas as pd\n",
    "\n",
    "from sklearn.model_selection import train_test_split\n",
    "\n",
    "from sklearn.metrics import accuracy_score, precision_score, recall_score, f1_score, roc_auc_score\n",
    "\n",
    "from imblearn.over_sampling import RandomOverSampler, SMOTE\n",
    "from imblearn.over_sampling import ADASYN\n",
    "from imblearn.under_sampling import RandomUnderSampler"
   ]
  },
  {
   "cell_type": "code",
   "execution_count": 2,
   "metadata": {},
   "outputs": [],
   "source": [
    "pd.set_option('display.max_rows', None)\n",
    "pd.set_option('display.max_columns', None)"
   ]
  },
  {
   "cell_type": "code",
   "execution_count": 3,
   "metadata": {},
   "outputs": [],
   "source": [
    "df = pd.read_csv('final_data.csv')"
   ]
  },
  {
   "cell_type": "code",
   "execution_count": 4,
   "metadata": {},
   "outputs": [
    {
     "data": {
      "text/html": [
       "<div>\n",
       "<style scoped>\n",
       "    .dataframe tbody tr th:only-of-type {\n",
       "        vertical-align: middle;\n",
       "    }\n",
       "\n",
       "    .dataframe tbody tr th {\n",
       "        vertical-align: top;\n",
       "    }\n",
       "\n",
       "    .dataframe thead th {\n",
       "        text-align: right;\n",
       "    }\n",
       "</style>\n",
       "<table border=\"1\" class=\"dataframe\">\n",
       "  <thead>\n",
       "    <tr style=\"text-align: right;\">\n",
       "      <th></th>\n",
       "      <th>brand</th>\n",
       "      <th>4G</th>\n",
       "      <th>5G</th>\n",
       "      <th>Announced</th>\n",
       "      <th>Status</th>\n",
       "      <th>Weight</th>\n",
       "      <th>Diameter</th>\n",
       "      <th>Display Size</th>\n",
       "      <th>ppi</th>\n",
       "      <th>body ratio</th>\n",
       "      <th>OS</th>\n",
       "      <th>battery_capacity</th>\n",
       "      <th>Price</th>\n",
       "      <th>CPU</th>\n",
       "      <th>ratio</th>\n",
       "      <th>pixel</th>\n",
       "      <th>GPU</th>\n",
       "      <th>Chipset</th>\n",
       "      <th>RAM</th>\n",
       "      <th>Storage</th>\n",
       "      <th>Weight Cat</th>\n",
       "      <th>Diameter Cat</th>\n",
       "      <th>Display Size Cat</th>\n",
       "      <th>ppi Cat</th>\n",
       "      <th>body ratio Cat</th>\n",
       "      <th>battery_capacity Cat</th>\n",
       "      <th>Price Cat</th>\n",
       "      <th>WLAN_COUNT</th>\n",
       "      <th>pixel Cat</th>\n",
       "      <th>SIM_Micro-SIM</th>\n",
       "      <th>SIM_Mini-SIM</th>\n",
       "      <th>SIM_Nano-SIM</th>\n",
       "      <th>SIM_eSIM</th>\n",
       "      <th>Display Type_AMOLED</th>\n",
       "      <th>Display Type_LCD</th>\n",
       "      <th>Display Type_OLED</th>\n",
       "      <th>Display Type_Others</th>\n",
       "      <th>Display Type_Retina</th>\n",
       "      <th>Display Type_TFT</th>\n",
       "    </tr>\n",
       "  </thead>\n",
       "  <tbody>\n",
       "    <tr>\n",
       "      <th>0</th>\n",
       "      <td>0</td>\n",
       "      <td>True</td>\n",
       "      <td>False</td>\n",
       "      <td>2022.0</td>\n",
       "      <td>0</td>\n",
       "      <td>172.0</td>\n",
       "      <td>10.0</td>\n",
       "      <td>5.5</td>\n",
       "      <td>293.0</td>\n",
       "      <td>74.0</td>\n",
       "      <td>0</td>\n",
       "      <td>3000.0</td>\n",
       "      <td>100.0</td>\n",
       "      <td>4.0</td>\n",
       "      <td>3</td>\n",
       "      <td>1036800.0</td>\n",
       "      <td>5</td>\n",
       "      <td>4</td>\n",
       "      <td>2.0</td>\n",
       "      <td>32.0</td>\n",
       "      <td>2</td>\n",
       "      <td>3</td>\n",
       "      <td>3</td>\n",
       "      <td>2</td>\n",
       "      <td>0</td>\n",
       "      <td>2</td>\n",
       "      <td>3</td>\n",
       "      <td>2</td>\n",
       "      <td>2</td>\n",
       "      <td>False</td>\n",
       "      <td>False</td>\n",
       "      <td>True</td>\n",
       "      <td>False</td>\n",
       "      <td>False</td>\n",
       "      <td>True</td>\n",
       "      <td>False</td>\n",
       "      <td>False</td>\n",
       "      <td>False</td>\n",
       "      <td>False</td>\n",
       "    </tr>\n",
       "    <tr>\n",
       "      <th>1</th>\n",
       "      <td>0</td>\n",
       "      <td>True</td>\n",
       "      <td>False</td>\n",
       "      <td>2021.0</td>\n",
       "      <td>0</td>\n",
       "      <td>190.0</td>\n",
       "      <td>9.7</td>\n",
       "      <td>6.1</td>\n",
       "      <td>282.0</td>\n",
       "      <td>78.1</td>\n",
       "      <td>0</td>\n",
       "      <td>3000.0</td>\n",
       "      <td>110.0</td>\n",
       "      <td>8.0</td>\n",
       "      <td>11</td>\n",
       "      <td>1123200.0</td>\n",
       "      <td>4</td>\n",
       "      <td>8</td>\n",
       "      <td>2.0</td>\n",
       "      <td>32.0</td>\n",
       "      <td>2</td>\n",
       "      <td>0</td>\n",
       "      <td>4</td>\n",
       "      <td>2</td>\n",
       "      <td>0</td>\n",
       "      <td>2</td>\n",
       "      <td>3</td>\n",
       "      <td>2</td>\n",
       "      <td>0</td>\n",
       "      <td>False</td>\n",
       "      <td>False</td>\n",
       "      <td>True</td>\n",
       "      <td>False</td>\n",
       "      <td>False</td>\n",
       "      <td>True</td>\n",
       "      <td>False</td>\n",
       "      <td>False</td>\n",
       "      <td>False</td>\n",
       "      <td>False</td>\n",
       "    </tr>\n",
       "  </tbody>\n",
       "</table>\n",
       "</div>"
      ],
      "text/plain": [
       "   brand    4G     5G  Announced  Status  Weight  Diameter  Display Size  \\\n",
       "0      0  True  False     2022.0       0   172.0      10.0           5.5   \n",
       "1      0  True  False     2021.0       0   190.0       9.7           6.1   \n",
       "\n",
       "     ppi  body ratio  OS  battery_capacity  Price  CPU  ratio      pixel  GPU  \\\n",
       "0  293.0        74.0   0            3000.0  100.0  4.0      3  1036800.0    5   \n",
       "1  282.0        78.1   0            3000.0  110.0  8.0     11  1123200.0    4   \n",
       "\n",
       "   Chipset  RAM  Storage  Weight Cat  Diameter Cat  Display Size Cat  ppi Cat  \\\n",
       "0        4  2.0     32.0           2             3                 3        2   \n",
       "1        8  2.0     32.0           2             0                 4        2   \n",
       "\n",
       "   body ratio Cat  battery_capacity Cat  Price Cat  WLAN_COUNT  pixel Cat  \\\n",
       "0               0                     2          3           2          2   \n",
       "1               0                     2          3           2          0   \n",
       "\n",
       "   SIM_Micro-SIM  SIM_Mini-SIM  SIM_Nano-SIM  SIM_eSIM  Display Type_AMOLED  \\\n",
       "0          False         False          True     False                False   \n",
       "1          False         False          True     False                False   \n",
       "\n",
       "   Display Type_LCD  Display Type_OLED  Display Type_Others  \\\n",
       "0              True              False                False   \n",
       "1              True              False                False   \n",
       "\n",
       "   Display Type_Retina  Display Type_TFT  \n",
       "0                False             False  \n",
       "1                False             False  "
      ]
     },
     "execution_count": 4,
     "metadata": {},
     "output_type": "execute_result"
    }
   ],
   "source": [
    "df.head(2)"
   ]
  },
  {
   "cell_type": "markdown",
   "metadata": {},
   "source": [
    "# Part 1"
   ]
  },
  {
   "cell_type": "code",
   "execution_count": 5,
   "metadata": {},
   "outputs": [],
   "source": [
    "X = df.drop('OS' , axis=1)\n",
    "Y = df['OS']\n",
    "\n",
    "X_train, X_test, Y_train, Y_test = train_test_split(X, Y, test_size=0.15, random_state=42)"
   ]
  },
  {
   "cell_type": "code",
   "execution_count": 6,
   "metadata": {},
   "outputs": [],
   "source": [
    "X_tr_tr, X_val_tr, y_tr_tr, y_val_tr = train_test_split(X_train, Y_train, test_size=0.15, random_state=42)"
   ]
  },
  {
   "cell_type": "markdown",
   "metadata": {},
   "source": [
    "## Handling Imbalaced Data"
   ]
  },
  {
   "cell_type": "markdown",
   "metadata": {},
   "source": [
    "###### ADASYN"
   ]
  },
  {
   "cell_type": "code",
   "execution_count": 7,
   "metadata": {},
   "outputs": [
    {
     "data": {
      "text/plain": [
       "\"\\n\\nads=ADASYN(random_state=42)\\n\\n\\nX_tr_tr_balanced_adasyn, y_tr_tr_balanced_adasyn = ads.fit_resample(X_tr_tr, y_tr_tr)\\n\\nX_val_tr_balanced_adasyn, y_val_tr_balanced_adasyn = ads.fit_resample(X_val_tr, y_val_tr)\\n\\n\\n\\nprint(X_tr_tr.shape, y_tr_tr.shape, np.unique(y_tr_tr, return_counts=True))\\nprint(X_val_tr.shape, y_val_tr.shape, np.unique(y_val_tr, return_counts=True))\\n\\nprint('------------------------------------')\\n\\nprint('Balanced :')\\nprint(X_tr_tr_balanced_adasyn.shape, y_tr_tr_balanced_adasyn.shape, np.unique(y_tr_tr_balanced_adasyn, return_counts=True))\\nprint(X_val_tr_balanced_adasyn.shape, y_val_tr_balanced_adasyn.shape, np.unique(y_val_tr_balanced_adasyn, return_counts=True))\\n\\n\\n\""
      ]
     },
     "execution_count": 7,
     "metadata": {},
     "output_type": "execute_result"
    }
   ],
   "source": [
    "'''\n",
    "\n",
    "ads=ADASYN(random_state=42)\n",
    "\n",
    "\n",
    "X_tr_tr_balanced_adasyn, y_tr_tr_balanced_adasyn = ads.fit_resample(X_tr_tr, y_tr_tr)\n",
    "\n",
    "X_val_tr_balanced_adasyn, y_val_tr_balanced_adasyn = ads.fit_resample(X_val_tr, y_val_tr)\n",
    "\n",
    "\n",
    "\n",
    "print(X_tr_tr.shape, y_tr_tr.shape, np.unique(y_tr_tr, return_counts=True))\n",
    "print(X_val_tr.shape, y_val_tr.shape, np.unique(y_val_tr, return_counts=True))\n",
    "\n",
    "print('------------------------------------')\n",
    "\n",
    "print('Balanced :')\n",
    "print(X_tr_tr_balanced_adasyn.shape, y_tr_tr_balanced_adasyn.shape, np.unique(y_tr_tr_balanced_adasyn, return_counts=True))\n",
    "print(X_val_tr_balanced_adasyn.shape, y_val_tr_balanced_adasyn.shape, np.unique(y_val_tr_balanced_adasyn, return_counts=True))\n",
    "\n",
    "\n",
    "'''"
   ]
  },
  {
   "cell_type": "markdown",
   "metadata": {},
   "source": [
    "###### SMOTE"
   ]
  },
  {
   "cell_type": "code",
   "execution_count": 8,
   "metadata": {},
   "outputs": [
    {
     "name": "stdout",
     "output_type": "stream",
     "text": [
      "(1911, 38) (1911,) (array([0, 1, 2], dtype=int64), array([1765,   97,   49], dtype=int64))\n",
      "(338, 38) (338,) (array([0, 1, 2], dtype=int64), array([306,  24,   8], dtype=int64))\n",
      "------------------------------------\n",
      "Balanced :\n",
      "(5295, 38) (5295,) (array([0, 1, 2], dtype=int64), array([1765, 1765, 1765], dtype=int64))\n",
      "(918, 38) (918,) (array([0, 1, 2], dtype=int64), array([306, 306, 306], dtype=int64))\n"
     ]
    }
   ],
   "source": [
    "smt=SMOTE(random_state=42)\n",
    "\n",
    "\n",
    "X_tr_tr_balanced_smote, y_tr_tr_balanced_smote = smt.fit_resample(X_tr_tr, y_tr_tr)\n",
    "\n",
    "X_val_tr_balanced_smote, y_val_tr_balanced_smote = smt.fit_resample(X_val_tr, y_val_tr)\n",
    "\n",
    "\n",
    "\n",
    "print(X_tr_tr.shape, y_tr_tr.shape, np.unique(y_tr_tr, return_counts=True))\n",
    "print(X_val_tr.shape, y_val_tr.shape, np.unique(y_val_tr, return_counts=True))\n",
    "\n",
    "print('------------------------------------')\n",
    "\n",
    "print('Balanced :')\n",
    "print(X_tr_tr_balanced_smote.shape, y_tr_tr_balanced_smote.shape, np.unique(y_tr_tr_balanced_smote, return_counts=True))\n",
    "print(X_val_tr_balanced_smote.shape, y_val_tr_balanced_smote.shape, np.unique(y_val_tr_balanced_smote, return_counts=True))\n"
   ]
  },
  {
   "cell_type": "markdown",
   "metadata": {},
   "source": [
    "## Scaling the data"
   ]
  },
  {
   "cell_type": "code",
   "execution_count": 9,
   "metadata": {},
   "outputs": [
    {
     "data": {
      "text/plain": [
       "Index(['brand', '4G', '5G', 'Announced', 'Status', 'Weight', 'Diameter',\n",
       "       'Display Size', 'ppi', 'body ratio', 'OS', 'battery_capacity', 'Price',\n",
       "       'CPU', 'ratio', 'pixel', 'GPU', 'Chipset', 'RAM', 'Storage',\n",
       "       'Weight Cat', 'Diameter Cat', 'Display Size Cat', 'ppi Cat',\n",
       "       'body ratio Cat', 'battery_capacity Cat', 'Price Cat', 'WLAN_COUNT',\n",
       "       'pixel Cat', 'SIM_Micro-SIM', 'SIM_Mini-SIM', 'SIM_Nano-SIM',\n",
       "       'SIM_eSIM', 'Display Type_AMOLED', 'Display Type_LCD',\n",
       "       'Display Type_OLED', 'Display Type_Others', 'Display Type_Retina',\n",
       "       'Display Type_TFT'],\n",
       "      dtype='object')"
      ]
     },
     "execution_count": 9,
     "metadata": {},
     "output_type": "execute_result"
    }
   ],
   "source": [
    "df.columns"
   ]
  },
  {
   "cell_type": "code",
   "execution_count": 10,
   "metadata": {},
   "outputs": [],
   "source": [
    "from sklearn.preprocessing import StandardScaler, MinMaxScaler\n",
    "\n",
    "selected_features = ['brand', '5G', '4G', 'battery_capacity', 'CPU', 'GPU', 'WLAN_COUNT', 'Chipset', 'SIM_Micro-SIM', 'SIM_Mini-SIM', 'SIM_Nano-SIM',\n",
    "       'SIM_eSIM', 'Display Type_AMOLED', 'Display Type_LCD',\n",
    "       'Display Type_OLED', 'Display Type_Others', 'Display Type_Retina',\n",
    "       'Display Type_TFT']\n",
    "\n",
    "X_train_selected = X_tr_tr_balanced_smote[selected_features]\n",
    "\n",
    "scaler_standard = StandardScaler()\n",
    "scaler_minmax = MinMaxScaler()"
   ]
  },
  {
   "cell_type": "code",
   "execution_count": 11,
   "metadata": {},
   "outputs": [],
   "source": [
    "X_val_selected = X_val_tr_balanced_smote[selected_features]"
   ]
  },
  {
   "cell_type": "code",
   "execution_count": 12,
   "metadata": {},
   "outputs": [],
   "source": [
    "X_test_selected = X_test[selected_features]"
   ]
  },
  {
   "cell_type": "markdown",
   "metadata": {},
   "source": [
    "## Model Selection and Scaling using GridSearch"
   ]
  },
  {
   "cell_type": "code",
   "execution_count": 13,
   "metadata": {},
   "outputs": [
    {
     "name": "stdout",
     "output_type": "stream",
     "text": [
      "Scaler: StandardScaler, Classifier: Decision Tree\n",
      "Best Score: 0.9771433023758453\n",
      "Best Parameters: {'max_depth': 7}\n",
      "\n",
      "Scaler: StandardScaler, Classifier: Random Forest\n",
      "Best Score: 0.9918771703888851\n",
      "Best Parameters: {'n_estimators': 50}\n",
      "\n",
      "Scaler: StandardScaler, Classifier: AdaBoost\n",
      "Best Score: 0.8578818539967099\n",
      "Best Parameters: {'learning_rate': 0.01, 'n_estimators': 200}\n",
      "\n",
      "Scaler: StandardScaler, Classifier: XGBoost\n",
      "Best Score: 0.9909328360879339\n",
      "Best Parameters: {'learning_rate': 0.1, 'n_estimators': 200}\n",
      "\n",
      "Scaler: MinMaxScaler, Classifier: Decision Tree\n",
      "Best Score: 0.9773322571810722\n",
      "Best Parameters: {'max_depth': 7}\n",
      "\n",
      "Scaler: MinMaxScaler, Classifier: Random Forest\n",
      "Best Score: 0.9920662284074476\n",
      "Best Parameters: {'n_estimators': 200}\n",
      "\n",
      "Scaler: MinMaxScaler, Classifier: AdaBoost\n",
      "Best Score: 0.8578818539967099\n",
      "Best Parameters: {'learning_rate': 0.01, 'n_estimators': 200}\n",
      "\n",
      "Scaler: MinMaxScaler, Classifier: XGBoost\n",
      "Best Score: 0.9909328360879339\n",
      "Best Parameters: {'learning_rate': 0.1, 'n_estimators': 200}\n",
      "\n"
     ]
    }
   ],
   "source": [
    "from sklearn.model_selection import GridSearchCV\n",
    "from sklearn.tree import DecisionTreeClassifier\n",
    "from sklearn.ensemble import RandomForestClassifier, AdaBoostClassifier\n",
    "from xgboost import XGBClassifier\n",
    "from catboost import CatBoostClassifier\n",
    "\n",
    "classifiers = {\n",
    "    'Decision Tree': DecisionTreeClassifier(),\n",
    "    'Random Forest': RandomForestClassifier(),\n",
    "    'AdaBoost': AdaBoostClassifier(),\n",
    "    'XGBoost': XGBClassifier()\n",
    "}\n",
    "\n",
    "param_grids = {\n",
    "    'Decision Tree': {\n",
    "        'max_depth': [3, 5, 7]\n",
    "    },\n",
    "    'Random Forest': {\n",
    "        'n_estimators': [50, 100, 200]\n",
    "    },\n",
    "    'AdaBoost': {\n",
    "        'n_estimators': [50, 100, 200],\n",
    "        'learning_rate': [0.01, 0.1, 1]\n",
    "    },\n",
    "    'XGBoost': {\n",
    "        'n_estimators': [50, 100, 200],\n",
    "        'learning_rate': [0.01, 0.1, 1]\n",
    "    }\n",
    "}\n",
    "\n",
    "results = {}\n",
    "\n",
    "for scaler_name, scaler in [('StandardScaler', scaler_standard), ('MinMaxScaler', scaler_minmax)]:\n",
    "    X_train_scaled = scaler.fit_transform(X_train_selected)\n",
    "    for clf_name, clf in classifiers.items():\n",
    "        grid_search = GridSearchCV(clf, param_grids[clf_name], cv=5, scoring='f1_weighted')\n",
    "        grid_search.fit(X_train_scaled, y_tr_tr_balanced_smote)\n",
    "        results[(scaler_name, clf_name)] = grid_search\n",
    "        \n",
    "        print(f\"Scaler: {scaler_name}, Classifier: {clf_name}\")\n",
    "        print(\"Best Score:\", grid_search.best_score_)\n",
    "        print(\"Best Parameters:\", grid_search.best_params_)\n",
    "        print()"
   ]
  },
  {
   "cell_type": "code",
   "execution_count": 14,
   "metadata": {},
   "outputs": [],
   "source": [
    "best_scores = {}\n",
    "best_params = {}\n",
    "for (scaler_name, clf_name), grid_search in results.items():\n",
    "    best_scores[(scaler_name, clf_name)] = grid_search.best_score_\n",
    "    best_params[(scaler_name, clf_name)] = grid_search.best_params_"
   ]
  },
  {
   "cell_type": "code",
   "execution_count": 15,
   "metadata": {},
   "outputs": [
    {
     "data": {
      "text/plain": [
       "{('StandardScaler', 'Decision Tree'): 0.9771433023758453,\n",
       " ('StandardScaler', 'Random Forest'): 0.9918771703888851,\n",
       " ('StandardScaler', 'AdaBoost'): 0.8578818539967099,\n",
       " ('StandardScaler', 'XGBoost'): 0.9909328360879339,\n",
       " ('MinMaxScaler', 'Decision Tree'): 0.9773322571810722,\n",
       " ('MinMaxScaler', 'Random Forest'): 0.9920662284074476,\n",
       " ('MinMaxScaler', 'AdaBoost'): 0.8578818539967099,\n",
       " ('MinMaxScaler', 'XGBoost'): 0.9909328360879339}"
      ]
     },
     "execution_count": 15,
     "metadata": {},
     "output_type": "execute_result"
    }
   ],
   "source": [
    "best_scores"
   ]
  },
  {
   "cell_type": "code",
   "execution_count": 16,
   "metadata": {},
   "outputs": [
    {
     "data": {
      "text/plain": [
       "{('StandardScaler', 'Decision Tree'): {'max_depth': 7},\n",
       " ('StandardScaler', 'Random Forest'): {'n_estimators': 50},\n",
       " ('StandardScaler', 'AdaBoost'): {'learning_rate': 0.01, 'n_estimators': 200},\n",
       " ('StandardScaler', 'XGBoost'): {'learning_rate': 0.1, 'n_estimators': 200},\n",
       " ('MinMaxScaler', 'Decision Tree'): {'max_depth': 7},\n",
       " ('MinMaxScaler', 'Random Forest'): {'n_estimators': 200},\n",
       " ('MinMaxScaler', 'AdaBoost'): {'learning_rate': 0.01, 'n_estimators': 200},\n",
       " ('MinMaxScaler', 'XGBoost'): {'learning_rate': 0.1, 'n_estimators': 200}}"
      ]
     },
     "execution_count": 16,
     "metadata": {},
     "output_type": "execute_result"
    }
   ],
   "source": [
    "best_params"
   ]
  },
  {
   "cell_type": "code",
   "execution_count": 17,
   "metadata": {},
   "outputs": [
    {
     "data": {
      "text/plain": [
       "('MinMaxScaler', 'Random Forest')"
      ]
     },
     "execution_count": 17,
     "metadata": {},
     "output_type": "execute_result"
    }
   ],
   "source": [
    "best_model_key = max(best_scores, key=best_scores.get)\n",
    "best_model_key"
   ]
  },
  {
   "cell_type": "code",
   "execution_count": 18,
   "metadata": {},
   "outputs": [
    {
     "data": {
      "text/html": [
       "<style>#sk-container-id-1 {color: black;}#sk-container-id-1 pre{padding: 0;}#sk-container-id-1 div.sk-toggleable {background-color: white;}#sk-container-id-1 label.sk-toggleable__label {cursor: pointer;display: block;width: 100%;margin-bottom: 0;padding: 0.3em;box-sizing: border-box;text-align: center;}#sk-container-id-1 label.sk-toggleable__label-arrow:before {content: \"▸\";float: left;margin-right: 0.25em;color: #696969;}#sk-container-id-1 label.sk-toggleable__label-arrow:hover:before {color: black;}#sk-container-id-1 div.sk-estimator:hover label.sk-toggleable__label-arrow:before {color: black;}#sk-container-id-1 div.sk-toggleable__content {max-height: 0;max-width: 0;overflow: hidden;text-align: left;background-color: #f0f8ff;}#sk-container-id-1 div.sk-toggleable__content pre {margin: 0.2em;color: black;border-radius: 0.25em;background-color: #f0f8ff;}#sk-container-id-1 input.sk-toggleable__control:checked~div.sk-toggleable__content {max-height: 200px;max-width: 100%;overflow: auto;}#sk-container-id-1 input.sk-toggleable__control:checked~label.sk-toggleable__label-arrow:before {content: \"▾\";}#sk-container-id-1 div.sk-estimator input.sk-toggleable__control:checked~label.sk-toggleable__label {background-color: #d4ebff;}#sk-container-id-1 div.sk-label input.sk-toggleable__control:checked~label.sk-toggleable__label {background-color: #d4ebff;}#sk-container-id-1 input.sk-hidden--visually {border: 0;clip: rect(1px 1px 1px 1px);clip: rect(1px, 1px, 1px, 1px);height: 1px;margin: -1px;overflow: hidden;padding: 0;position: absolute;width: 1px;}#sk-container-id-1 div.sk-estimator {font-family: monospace;background-color: #f0f8ff;border: 1px dotted black;border-radius: 0.25em;box-sizing: border-box;margin-bottom: 0.5em;}#sk-container-id-1 div.sk-estimator:hover {background-color: #d4ebff;}#sk-container-id-1 div.sk-parallel-item::after {content: \"\";width: 100%;border-bottom: 1px solid gray;flex-grow: 1;}#sk-container-id-1 div.sk-label:hover label.sk-toggleable__label {background-color: #d4ebff;}#sk-container-id-1 div.sk-serial::before {content: \"\";position: absolute;border-left: 1px solid gray;box-sizing: border-box;top: 0;bottom: 0;left: 50%;z-index: 0;}#sk-container-id-1 div.sk-serial {display: flex;flex-direction: column;align-items: center;background-color: white;padding-right: 0.2em;padding-left: 0.2em;position: relative;}#sk-container-id-1 div.sk-item {position: relative;z-index: 1;}#sk-container-id-1 div.sk-parallel {display: flex;align-items: stretch;justify-content: center;background-color: white;position: relative;}#sk-container-id-1 div.sk-item::before, #sk-container-id-1 div.sk-parallel-item::before {content: \"\";position: absolute;border-left: 1px solid gray;box-sizing: border-box;top: 0;bottom: 0;left: 50%;z-index: -1;}#sk-container-id-1 div.sk-parallel-item {display: flex;flex-direction: column;z-index: 1;position: relative;background-color: white;}#sk-container-id-1 div.sk-parallel-item:first-child::after {align-self: flex-end;width: 50%;}#sk-container-id-1 div.sk-parallel-item:last-child::after {align-self: flex-start;width: 50%;}#sk-container-id-1 div.sk-parallel-item:only-child::after {width: 0;}#sk-container-id-1 div.sk-dashed-wrapped {border: 1px dashed gray;margin: 0 0.4em 0.5em 0.4em;box-sizing: border-box;padding-bottom: 0.4em;background-color: white;}#sk-container-id-1 div.sk-label label {font-family: monospace;font-weight: bold;display: inline-block;line-height: 1.2em;}#sk-container-id-1 div.sk-label-container {text-align: center;}#sk-container-id-1 div.sk-container {/* jupyter's `normalize.less` sets `[hidden] { display: none; }` but bootstrap.min.css set `[hidden] { display: none !important; }` so we also need the `!important` here to be able to override the default hidden behavior on the sphinx rendered scikit-learn.org. See: https://github.com/scikit-learn/scikit-learn/issues/21755 */display: inline-block !important;position: relative;}#sk-container-id-1 div.sk-text-repr-fallback {display: none;}</style><div id=\"sk-container-id-1\" class=\"sk-top-container\"><div class=\"sk-text-repr-fallback\"><pre>RandomForestClassifier(n_estimators=200)</pre><b>In a Jupyter environment, please rerun this cell to show the HTML representation or trust the notebook. <br />On GitHub, the HTML representation is unable to render, please try loading this page with nbviewer.org.</b></div><div class=\"sk-container\" hidden><div class=\"sk-item\"><div class=\"sk-estimator sk-toggleable\"><input class=\"sk-toggleable__control sk-hidden--visually\" id=\"sk-estimator-id-1\" type=\"checkbox\" checked><label for=\"sk-estimator-id-1\" class=\"sk-toggleable__label sk-toggleable__label-arrow\">RandomForestClassifier</label><div class=\"sk-toggleable__content\"><pre>RandomForestClassifier(n_estimators=200)</pre></div></div></div></div></div>"
      ],
      "text/plain": [
       "RandomForestClassifier(n_estimators=200)"
      ]
     },
     "execution_count": 18,
     "metadata": {},
     "output_type": "execute_result"
    }
   ],
   "source": [
    "best_model = results[best_model_key].best_estimator_\n",
    "best_model"
   ]
  },
  {
   "cell_type": "code",
   "execution_count": 19,
   "metadata": {},
   "outputs": [],
   "source": [
    "X_train_minmax_scaled = scaler_minmax.fit_transform(X_train_selected)\n",
    "\n",
    "X_val_minmax_scaled = scaler_minmax.transform(X_val_selected)\n",
    "\n",
    "X_test_minmax_scaled = scaler_minmax.transform(X_test_selected)"
   ]
  },
  {
   "cell_type": "code",
   "execution_count": 20,
   "metadata": {},
   "outputs": [
    {
     "data": {
      "text/html": [
       "<style>#sk-container-id-2 {color: black;}#sk-container-id-2 pre{padding: 0;}#sk-container-id-2 div.sk-toggleable {background-color: white;}#sk-container-id-2 label.sk-toggleable__label {cursor: pointer;display: block;width: 100%;margin-bottom: 0;padding: 0.3em;box-sizing: border-box;text-align: center;}#sk-container-id-2 label.sk-toggleable__label-arrow:before {content: \"▸\";float: left;margin-right: 0.25em;color: #696969;}#sk-container-id-2 label.sk-toggleable__label-arrow:hover:before {color: black;}#sk-container-id-2 div.sk-estimator:hover label.sk-toggleable__label-arrow:before {color: black;}#sk-container-id-2 div.sk-toggleable__content {max-height: 0;max-width: 0;overflow: hidden;text-align: left;background-color: #f0f8ff;}#sk-container-id-2 div.sk-toggleable__content pre {margin: 0.2em;color: black;border-radius: 0.25em;background-color: #f0f8ff;}#sk-container-id-2 input.sk-toggleable__control:checked~div.sk-toggleable__content {max-height: 200px;max-width: 100%;overflow: auto;}#sk-container-id-2 input.sk-toggleable__control:checked~label.sk-toggleable__label-arrow:before {content: \"▾\";}#sk-container-id-2 div.sk-estimator input.sk-toggleable__control:checked~label.sk-toggleable__label {background-color: #d4ebff;}#sk-container-id-2 div.sk-label input.sk-toggleable__control:checked~label.sk-toggleable__label {background-color: #d4ebff;}#sk-container-id-2 input.sk-hidden--visually {border: 0;clip: rect(1px 1px 1px 1px);clip: rect(1px, 1px, 1px, 1px);height: 1px;margin: -1px;overflow: hidden;padding: 0;position: absolute;width: 1px;}#sk-container-id-2 div.sk-estimator {font-family: monospace;background-color: #f0f8ff;border: 1px dotted black;border-radius: 0.25em;box-sizing: border-box;margin-bottom: 0.5em;}#sk-container-id-2 div.sk-estimator:hover {background-color: #d4ebff;}#sk-container-id-2 div.sk-parallel-item::after {content: \"\";width: 100%;border-bottom: 1px solid gray;flex-grow: 1;}#sk-container-id-2 div.sk-label:hover label.sk-toggleable__label {background-color: #d4ebff;}#sk-container-id-2 div.sk-serial::before {content: \"\";position: absolute;border-left: 1px solid gray;box-sizing: border-box;top: 0;bottom: 0;left: 50%;z-index: 0;}#sk-container-id-2 div.sk-serial {display: flex;flex-direction: column;align-items: center;background-color: white;padding-right: 0.2em;padding-left: 0.2em;position: relative;}#sk-container-id-2 div.sk-item {position: relative;z-index: 1;}#sk-container-id-2 div.sk-parallel {display: flex;align-items: stretch;justify-content: center;background-color: white;position: relative;}#sk-container-id-2 div.sk-item::before, #sk-container-id-2 div.sk-parallel-item::before {content: \"\";position: absolute;border-left: 1px solid gray;box-sizing: border-box;top: 0;bottom: 0;left: 50%;z-index: -1;}#sk-container-id-2 div.sk-parallel-item {display: flex;flex-direction: column;z-index: 1;position: relative;background-color: white;}#sk-container-id-2 div.sk-parallel-item:first-child::after {align-self: flex-end;width: 50%;}#sk-container-id-2 div.sk-parallel-item:last-child::after {align-self: flex-start;width: 50%;}#sk-container-id-2 div.sk-parallel-item:only-child::after {width: 0;}#sk-container-id-2 div.sk-dashed-wrapped {border: 1px dashed gray;margin: 0 0.4em 0.5em 0.4em;box-sizing: border-box;padding-bottom: 0.4em;background-color: white;}#sk-container-id-2 div.sk-label label {font-family: monospace;font-weight: bold;display: inline-block;line-height: 1.2em;}#sk-container-id-2 div.sk-label-container {text-align: center;}#sk-container-id-2 div.sk-container {/* jupyter's `normalize.less` sets `[hidden] { display: none; }` but bootstrap.min.css set `[hidden] { display: none !important; }` so we also need the `!important` here to be able to override the default hidden behavior on the sphinx rendered scikit-learn.org. See: https://github.com/scikit-learn/scikit-learn/issues/21755 */display: inline-block !important;position: relative;}#sk-container-id-2 div.sk-text-repr-fallback {display: none;}</style><div id=\"sk-container-id-2\" class=\"sk-top-container\"><div class=\"sk-text-repr-fallback\"><pre>RandomForestClassifier(n_estimators=200)</pre><b>In a Jupyter environment, please rerun this cell to show the HTML representation or trust the notebook. <br />On GitHub, the HTML representation is unable to render, please try loading this page with nbviewer.org.</b></div><div class=\"sk-container\" hidden><div class=\"sk-item\"><div class=\"sk-estimator sk-toggleable\"><input class=\"sk-toggleable__control sk-hidden--visually\" id=\"sk-estimator-id-2\" type=\"checkbox\" checked><label for=\"sk-estimator-id-2\" class=\"sk-toggleable__label sk-toggleable__label-arrow\">RandomForestClassifier</label><div class=\"sk-toggleable__content\"><pre>RandomForestClassifier(n_estimators=200)</pre></div></div></div></div></div>"
      ],
      "text/plain": [
       "RandomForestClassifier(n_estimators=200)"
      ]
     },
     "execution_count": 20,
     "metadata": {},
     "output_type": "execute_result"
    }
   ],
   "source": [
    "best_model.fit(X_train_minmax_scaled, y_tr_tr_balanced_smote)"
   ]
  },
  {
   "cell_type": "markdown",
   "metadata": {},
   "source": [
    "## Model Evaluation"
   ]
  },
  {
   "cell_type": "code",
   "execution_count": 21,
   "metadata": {},
   "outputs": [
    {
     "name": "stdout",
     "output_type": "stream",
     "text": [
      "Validation Metrics:\n",
      "Accuracy: 0.954248366013072\n",
      "Precision: 0.9587527478884648\n",
      "Recall: 0.954248366013072\n",
      "F1 Score: 0.9540712945590994\n",
      "AUC Score: 0.9962541116664531\n"
     ]
    }
   ],
   "source": [
    "y_val_pred_proba = best_model.predict_proba(X_val_minmax_scaled)\n",
    "\n",
    "y_val_pred = best_model.predict(X_val_minmax_scaled)\n",
    "\n",
    "accuracy_val = accuracy_score(y_val_tr_balanced_smote, y_val_pred)\n",
    "precision_val = precision_score(y_val_tr_balanced_smote, y_val_pred, average='weighted')\n",
    "recall_val = recall_score(y_val_tr_balanced_smote, y_val_pred, average='weighted')\n",
    "f1_val = f1_score(y_val_tr_balanced_smote, y_val_pred, average='weighted')\n",
    "auc_val = roc_auc_score(y_val_tr_balanced_smote, y_val_pred_proba, multi_class='ovr')\n",
    "\n",
    "print(\"Validation Metrics:\")\n",
    "print(\"Accuracy:\", accuracy_val)\n",
    "print(\"Precision:\", precision_val)\n",
    "print(\"Recall:\", recall_val)\n",
    "print(\"F1 Score:\", f1_val)\n",
    "print(\"AUC Score:\", auc_val)"
   ]
  },
  {
   "cell_type": "code",
   "execution_count": 22,
   "metadata": {},
   "outputs": [
    {
     "name": "stdout",
     "output_type": "stream",
     "text": [
      "Test Metrics:\n",
      "Accuracy: 0.9798488664987406\n",
      "Precision: 0.9783299592211258\n",
      "Recall: 0.9798488664987406\n",
      "F1 Score: 0.9784632361760827\n",
      "AUC Score: 0.9684366490046653\n"
     ]
    }
   ],
   "source": [
    "y_test_pred_proba = best_model.predict_proba(X_test_minmax_scaled)\n",
    "\n",
    "y_test_pred = best_model.predict(X_test_minmax_scaled)\n",
    "\n",
    "accuracy_test = accuracy_score(Y_test, y_test_pred)\n",
    "precision_test = precision_score(Y_test, y_test_pred, average='weighted')\n",
    "recall_test = recall_score(Y_test, y_test_pred, average='weighted')\n",
    "f1_test = f1_score(Y_test, y_test_pred, average='weighted')\n",
    "auc_test = roc_auc_score(Y_test, y_test_pred_proba, multi_class='ovr')\n",
    "\n",
    "print(\"Test Metrics:\")\n",
    "print(\"Accuracy:\", accuracy_test)\n",
    "print(\"Precision:\", precision_test)\n",
    "print(\"Recall:\", recall_test)\n",
    "print(\"F1 Score:\", f1_test)\n",
    "print(\"AUC Score:\", auc_test)"
   ]
  },
  {
   "cell_type": "markdown",
   "metadata": {},
   "source": [
    "### Validation Metrics:\n",
    "- **Accuracy:** The model correctly predicts about 95.42% of the validation data samples. This means that the majority of the samples are classified correctly by the model.\n",
    "- **Precision:** When the model predicts a positive class label, it is correct about 95.88% of the time on average. This indicates the model's ability to avoid false positives.\n",
    "- **Recall:** The model identifies around 95.42% of the actual positive class instances in the validation dataset. This implies that the model captures a high proportion of the positive cases.\n",
    "- **F1 Score:** The F1 score, which combines precision and recall, is approximately 95.41%. This suggests that the model achieves a good balance between precision and recall.\n",
    "- **AUC Score:** The high AUC score of 99.63% indicates that the model has excellent discriminatory power between the positive and negative classes, making it effective for classification tasks.\n",
    "\n",
    "### Test Metrics:\n",
    "- **Accuracy:** On the test dataset, the model achieves an accuracy of 97.98%, indicating a high percentage of correctly predicted samples. This suggests that the model generalizes well to unseen data.\n",
    "- **Precision:** With a precision score of 97.83%, the model maintains a high level of accuracy when predicting positive class instances on the test data.\n",
    "- **Recall:** The model captures about 97.98% of the actual positive class instances in the test dataset, indicating its ability to effectively identify positive cases.\n",
    "- **F1 Score:** The F1 score of 97.85% on the test data suggests a good balance between precision and recall, similar to the validation set.\n",
    "- **AUC Score:** Despite being evaluated on unseen data, the AUC score of 96.84% on the test dataset indicates that the model's discriminatory power remains strong, further validating its effectiveness.\n",
    "\n",
    "Overall, the model performs consistently well on both validation and test datasets, demonstrating high accuracy, precision, and recall, along with strong discriminatory power."
   ]
  },
  {
   "cell_type": "code",
   "execution_count": 23,
   "metadata": {},
   "outputs": [
    {
     "data": {
      "image/png": "[encoded data removed]",
      "text/plain": [
       "<Figure size 800x600 with 2 Axes>"
      ]
     },
     "metadata": {},
     "output_type": "display_data"
    }
   ],
   "source": [
    "import matplotlib.pyplot as plt\n",
    "import seaborn as sns\n",
    "from sklearn.metrics import confusion_matrix\n",
    "\n",
    "cm = confusion_matrix(Y_test, y_test_pred)\n",
    "\n",
    "plt.figure(figsize=(8, 6))\n",
    "sns.heatmap(cm, annot=True, fmt='d', cmap='Blues', xticklabels=['Android', 'iOS', 'Others'], yticklabels=['Android', 'iOS', 'Others'])\n",
    "plt.xlabel('Predicted labels')\n",
    "plt.ylabel('True labels')\n",
    "plt.title('Confusion Matrix - Test Data')\n",
    "plt.show()\n"
   ]
  },
  {
   "cell_type": "code",
   "execution_count": 24,
   "metadata": {},
   "outputs": [
    {
     "name": "stdout",
     "output_type": "stream",
     "text": [
      "F1 Score for Android class: 0.9893333333333334\n",
      "F1 Score for iOS class: 0.7142857142857143\n",
      "F1 Score for Others class: 1.0\n"
     ]
    }
   ],
   "source": [
    "f1_android = f1_score(Y_test == 0, y_test_pred == 0, average='binary')\n",
    "f1_ios = f1_score(Y_test == 1, y_test_pred == 1, average='binary')\n",
    "f1_others = f1_score(Y_test == 2, y_test_pred == 2, average='binary')\n",
    "\n",
    "print(\"F1 Score for Android class:\", f1_android)\n",
    "print(\"F1 Score for iOS class:\", f1_ios)\n",
    "print(\"F1 Score for Others class:\", f1_others)"
   ]
  },
  {
   "cell_type": "markdown",
   "metadata": {},
   "source": [
    "# Part 2"
   ]
  },
  {
   "cell_type": "markdown",
   "metadata": {},
   "source": [
    "We just need to change the 'battery_capacity' in Selected_features to 'battery_capacity Cat'"
   ]
  },
  {
   "cell_type": "code",
   "execution_count": 25,
   "metadata": {},
   "outputs": [
    {
     "name": "stdout",
     "output_type": "stream",
     "text": [
      "Scaler: StandardScaler, Classifier: Decision Tree\n",
      "Best Score: 0.9599079108430908\n",
      "Best Parameters: {'max_depth': 7}\n",
      "\n",
      "Scaler: StandardScaler, Classifier: Random Forest\n",
      "Best Score: 0.9856439312416209\n",
      "Best Parameters: {'n_estimators': 100}\n",
      "\n",
      "Scaler: StandardScaler, Classifier: AdaBoost\n",
      "Best Score: 0.8866922578380347\n",
      "Best Parameters: {'learning_rate': 0.01, 'n_estimators': 200}\n",
      "\n",
      "Scaler: StandardScaler, Classifier: XGBoost\n",
      "Best Score: 0.9856433122355849\n",
      "Best Parameters: {'learning_rate': 0.1, 'n_estimators': 100}\n",
      "\n",
      "Scaler: MinMaxScaler, Classifier: Decision Tree\n",
      "Best Score: 0.9602874862987563\n",
      "Best Parameters: {'max_depth': 7}\n",
      "\n",
      "Scaler: MinMaxScaler, Classifier: Random Forest\n",
      "Best Score: 0.986399950645945\n",
      "Best Parameters: {'n_estimators': 100}\n",
      "\n",
      "Scaler: MinMaxScaler, Classifier: AdaBoost\n",
      "Best Score: 0.8866922578380347\n",
      "Best Parameters: {'learning_rate': 0.01, 'n_estimators': 200}\n",
      "\n",
      "Scaler: MinMaxScaler, Classifier: XGBoost\n",
      "Best Score: 0.9856433122355849\n",
      "Best Parameters: {'learning_rate': 0.1, 'n_estimators': 100}\n",
      "\n"
     ]
    }
   ],
   "source": [
    "from sklearn.preprocessing import StandardScaler, MinMaxScaler\n",
    "\n",
    "selected_features = ['brand', '5G', '4G', 'battery_capacity Cat', 'CPU', 'GPU', 'WLAN_COUNT', 'Chipset', 'SIM_Micro-SIM', 'SIM_Mini-SIM', 'SIM_Nano-SIM',\n",
    "       'SIM_eSIM', 'Display Type_AMOLED', 'Display Type_LCD',\n",
    "       'Display Type_OLED', 'Display Type_Others', 'Display Type_Retina',\n",
    "       'Display Type_TFT']\n",
    "\n",
    "X_train_selected = X_tr_tr_balanced_smote[selected_features]\n",
    "\n",
    "scaler_standard = StandardScaler()\n",
    "scaler_minmax = MinMaxScaler()\n",
    "\n",
    "\n",
    "X_val_selected = X_val_tr_balanced_smote[selected_features]\n",
    "\n",
    "\n",
    "X_test_selected = X_test[selected_features]\n",
    "\n",
    "\n",
    "from sklearn.model_selection import GridSearchCV\n",
    "from sklearn.tree import DecisionTreeClassifier\n",
    "from sklearn.ensemble import RandomForestClassifier, AdaBoostClassifier\n",
    "from xgboost import XGBClassifier\n",
    "from catboost import CatBoostClassifier\n",
    "\n",
    "classifiers = {\n",
    "    'Decision Tree': DecisionTreeClassifier(),\n",
    "    'Random Forest': RandomForestClassifier(),\n",
    "    'AdaBoost': AdaBoostClassifier(),\n",
    "    'XGBoost': XGBClassifier()\n",
    "}\n",
    "\n",
    "param_grids = {\n",
    "    'Decision Tree': {\n",
    "        'max_depth': [3, 5, 7]\n",
    "    },\n",
    "    'Random Forest': {\n",
    "        'n_estimators': [50, 100, 200]\n",
    "    },\n",
    "    'AdaBoost': {\n",
    "        'n_estimators': [50, 100, 200],\n",
    "        'learning_rate': [0.01, 0.1, 1]\n",
    "    },\n",
    "    'XGBoost': {\n",
    "        'n_estimators': [50, 100, 200],\n",
    "        'learning_rate': [0.01, 0.1, 1]\n",
    "    }\n",
    "}\n",
    "\n",
    "results = {}\n",
    "\n",
    "for scaler_name, scaler in [('StandardScaler', scaler_standard), ('MinMaxScaler', scaler_minmax)]:\n",
    "    X_train_scaled = scaler.fit_transform(X_train_selected)\n",
    "    for clf_name, clf in classifiers.items():\n",
    "        grid_search = GridSearchCV(clf, param_grids[clf_name], cv=5, scoring='f1_weighted')\n",
    "        grid_search.fit(X_train_scaled, y_tr_tr_balanced_smote)\n",
    "        results[(scaler_name, clf_name)] = grid_search\n",
    "        \n",
    "        print(f\"Scaler: {scaler_name}, Classifier: {clf_name}\")\n",
    "        print(\"Best Score:\", grid_search.best_score_)\n",
    "        print(\"Best Parameters:\", grid_search.best_params_)\n",
    "        print()"
   ]
  },
  {
   "cell_type": "code",
   "execution_count": 26,
   "metadata": {},
   "outputs": [],
   "source": [
    "best_scores = {}\n",
    "best_params = {}\n",
    "for (scaler_name, clf_name), grid_search in results.items():\n",
    "    best_scores[(scaler_name, clf_name)] = grid_search.best_score_\n",
    "    best_params[(scaler_name, clf_name)] = grid_search.best_params_"
   ]
  },
  {
   "cell_type": "code",
   "execution_count": 27,
   "metadata": {},
   "outputs": [
    {
     "data": {
      "text/html": [
       "<style>#sk-container-id-3 {color: black;}#sk-container-id-3 pre{padding: 0;}#sk-container-id-3 div.sk-toggleable {background-color: white;}#sk-container-id-3 label.sk-toggleable__label {cursor: pointer;display: block;width: 100%;margin-bottom: 0;padding: 0.3em;box-sizing: border-box;text-align: center;}#sk-container-id-3 label.sk-toggleable__label-arrow:before {content: \"▸\";float: left;margin-right: 0.25em;color: #696969;}#sk-container-id-3 label.sk-toggleable__label-arrow:hover:before {color: black;}#sk-container-id-3 div.sk-estimator:hover label.sk-toggleable__label-arrow:before {color: black;}#sk-container-id-3 div.sk-toggleable__content {max-height: 0;max-width: 0;overflow: hidden;text-align: left;background-color: #f0f8ff;}#sk-container-id-3 div.sk-toggleable__content pre {margin: 0.2em;color: black;border-radius: 0.25em;background-color: #f0f8ff;}#sk-container-id-3 input.sk-toggleable__control:checked~div.sk-toggleable__content {max-height: 200px;max-width: 100%;overflow: auto;}#sk-container-id-3 input.sk-toggleable__control:checked~label.sk-toggleable__label-arrow:before {content: \"▾\";}#sk-container-id-3 div.sk-estimator input.sk-toggleable__control:checked~label.sk-toggleable__label {background-color: #d4ebff;}#sk-container-id-3 div.sk-label input.sk-toggleable__control:checked~label.sk-toggleable__label {background-color: #d4ebff;}#sk-container-id-3 input.sk-hidden--visually {border: 0;clip: rect(1px 1px 1px 1px);clip: rect(1px, 1px, 1px, 1px);height: 1px;margin: -1px;overflow: hidden;padding: 0;position: absolute;width: 1px;}#sk-container-id-3 div.sk-estimator {font-family: monospace;background-color: #f0f8ff;border: 1px dotted black;border-radius: 0.25em;box-sizing: border-box;margin-bottom: 0.5em;}#sk-container-id-3 div.sk-estimator:hover {background-color: #d4ebff;}#sk-container-id-3 div.sk-parallel-item::after {content: \"\";width: 100%;border-bottom: 1px solid gray;flex-grow: 1;}#sk-container-id-3 div.sk-label:hover label.sk-toggleable__label {background-color: #d4ebff;}#sk-container-id-3 div.sk-serial::before {content: \"\";position: absolute;border-left: 1px solid gray;box-sizing: border-box;top: 0;bottom: 0;left: 50%;z-index: 0;}#sk-container-id-3 div.sk-serial {display: flex;flex-direction: column;align-items: center;background-color: white;padding-right: 0.2em;padding-left: 0.2em;position: relative;}#sk-container-id-3 div.sk-item {position: relative;z-index: 1;}#sk-container-id-3 div.sk-parallel {display: flex;align-items: stretch;justify-content: center;background-color: white;position: relative;}#sk-container-id-3 div.sk-item::before, #sk-container-id-3 div.sk-parallel-item::before {content: \"\";position: absolute;border-left: 1px solid gray;box-sizing: border-box;top: 0;bottom: 0;left: 50%;z-index: -1;}#sk-container-id-3 div.sk-parallel-item {display: flex;flex-direction: column;z-index: 1;position: relative;background-color: white;}#sk-container-id-3 div.sk-parallel-item:first-child::after {align-self: flex-end;width: 50%;}#sk-container-id-3 div.sk-parallel-item:last-child::after {align-self: flex-start;width: 50%;}#sk-container-id-3 div.sk-parallel-item:only-child::after {width: 0;}#sk-container-id-3 div.sk-dashed-wrapped {border: 1px dashed gray;margin: 0 0.4em 0.5em 0.4em;box-sizing: border-box;padding-bottom: 0.4em;background-color: white;}#sk-container-id-3 div.sk-label label {font-family: monospace;font-weight: bold;display: inline-block;line-height: 1.2em;}#sk-container-id-3 div.sk-label-container {text-align: center;}#sk-container-id-3 div.sk-container {/* jupyter's `normalize.less` sets `[hidden] { display: none; }` but bootstrap.min.css set `[hidden] { display: none !important; }` so we also need the `!important` here to be able to override the default hidden behavior on the sphinx rendered scikit-learn.org. See: https://github.com/scikit-learn/scikit-learn/issues/21755 */display: inline-block !important;position: relative;}#sk-container-id-3 div.sk-text-repr-fallback {display: none;}</style><div id=\"sk-container-id-3\" class=\"sk-top-container\"><div class=\"sk-text-repr-fallback\"><pre>RandomForestClassifier()</pre><b>In a Jupyter environment, please rerun this cell to show the HTML representation or trust the notebook. <br />On GitHub, the HTML representation is unable to render, please try loading this page with nbviewer.org.</b></div><div class=\"sk-container\" hidden><div class=\"sk-item\"><div class=\"sk-estimator sk-toggleable\"><input class=\"sk-toggleable__control sk-hidden--visually\" id=\"sk-estimator-id-3\" type=\"checkbox\" checked><label for=\"sk-estimator-id-3\" class=\"sk-toggleable__label sk-toggleable__label-arrow\">RandomForestClassifier</label><div class=\"sk-toggleable__content\"><pre>RandomForestClassifier()</pre></div></div></div></div></div>"
      ],
      "text/plain": [
       "RandomForestClassifier()"
      ]
     },
     "execution_count": 27,
     "metadata": {},
     "output_type": "execute_result"
    }
   ],
   "source": [
    "best_model_key = max(best_scores, key=best_scores.get)\n",
    "best_model = results[best_model_key].best_estimator_\n",
    "best_model"
   ]
  },
  {
   "cell_type": "code",
   "execution_count": 29,
   "metadata": {},
   "outputs": [
    {
     "data": {
      "text/html": [
       "<style>#sk-container-id-4 {color: black;}#sk-container-id-4 pre{padding: 0;}#sk-container-id-4 div.sk-toggleable {background-color: white;}#sk-container-id-4 label.sk-toggleable__label {cursor: pointer;display: block;width: 100%;margin-bottom: 0;padding: 0.3em;box-sizing: border-box;text-align: center;}#sk-container-id-4 label.sk-toggleable__label-arrow:before {content: \"▸\";float: left;margin-right: 0.25em;color: #696969;}#sk-container-id-4 label.sk-toggleable__label-arrow:hover:before {color: black;}#sk-container-id-4 div.sk-estimator:hover label.sk-toggleable__label-arrow:before {color: black;}#sk-container-id-4 div.sk-toggleable__content {max-height: 0;max-width: 0;overflow: hidden;text-align: left;background-color: #f0f8ff;}#sk-container-id-4 div.sk-toggleable__content pre {margin: 0.2em;color: black;border-radius: 0.25em;background-color: #f0f8ff;}#sk-container-id-4 input.sk-toggleable__control:checked~div.sk-toggleable__content {max-height: 200px;max-width: 100%;overflow: auto;}#sk-container-id-4 input.sk-toggleable__control:checked~label.sk-toggleable__label-arrow:before {content: \"▾\";}#sk-container-id-4 div.sk-estimator input.sk-toggleable__control:checked~label.sk-toggleable__label {background-color: #d4ebff;}#sk-container-id-4 div.sk-label input.sk-toggleable__control:checked~label.sk-toggleable__label {background-color: #d4ebff;}#sk-container-id-4 input.sk-hidden--visually {border: 0;clip: rect(1px 1px 1px 1px);clip: rect(1px, 1px, 1px, 1px);height: 1px;margin: -1px;overflow: hidden;padding: 0;position: absolute;width: 1px;}#sk-container-id-4 div.sk-estimator {font-family: monospace;background-color: #f0f8ff;border: 1px dotted black;border-radius: 0.25em;box-sizing: border-box;margin-bottom: 0.5em;}#sk-container-id-4 div.sk-estimator:hover {background-color: #d4ebff;}#sk-container-id-4 div.sk-parallel-item::after {content: \"\";width: 100%;border-bottom: 1px solid gray;flex-grow: 1;}#sk-container-id-4 div.sk-label:hover label.sk-toggleable__label {background-color: #d4ebff;}#sk-container-id-4 div.sk-serial::before {content: \"\";position: absolute;border-left: 1px solid gray;box-sizing: border-box;top: 0;bottom: 0;left: 50%;z-index: 0;}#sk-container-id-4 div.sk-serial {display: flex;flex-direction: column;align-items: center;background-color: white;padding-right: 0.2em;padding-left: 0.2em;position: relative;}#sk-container-id-4 div.sk-item {position: relative;z-index: 1;}#sk-container-id-4 div.sk-parallel {display: flex;align-items: stretch;justify-content: center;background-color: white;position: relative;}#sk-container-id-4 div.sk-item::before, #sk-container-id-4 div.sk-parallel-item::before {content: \"\";position: absolute;border-left: 1px solid gray;box-sizing: border-box;top: 0;bottom: 0;left: 50%;z-index: -1;}#sk-container-id-4 div.sk-parallel-item {display: flex;flex-direction: column;z-index: 1;position: relative;background-color: white;}#sk-container-id-4 div.sk-parallel-item:first-child::after {align-self: flex-end;width: 50%;}#sk-container-id-4 div.sk-parallel-item:last-child::after {align-self: flex-start;width: 50%;}#sk-container-id-4 div.sk-parallel-item:only-child::after {width: 0;}#sk-container-id-4 div.sk-dashed-wrapped {border: 1px dashed gray;margin: 0 0.4em 0.5em 0.4em;box-sizing: border-box;padding-bottom: 0.4em;background-color: white;}#sk-container-id-4 div.sk-label label {font-family: monospace;font-weight: bold;display: inline-block;line-height: 1.2em;}#sk-container-id-4 div.sk-label-container {text-align: center;}#sk-container-id-4 div.sk-container {/* jupyter's `normalize.less` sets `[hidden] { display: none; }` but bootstrap.min.css set `[hidden] { display: none !important; }` so we also need the `!important` here to be able to override the default hidden behavior on the sphinx rendered scikit-learn.org. See: https://github.com/scikit-learn/scikit-learn/issues/21755 */display: inline-block !important;position: relative;}#sk-container-id-4 div.sk-text-repr-fallback {display: none;}</style><div id=\"sk-container-id-4\" class=\"sk-top-container\"><div class=\"sk-text-repr-fallback\"><pre>RandomForestClassifier()</pre><b>In a Jupyter environment, please rerun this cell to show the HTML representation or trust the notebook. <br />On GitHub, the HTML representation is unable to render, please try loading this page with nbviewer.org.</b></div><div class=\"sk-container\" hidden><div class=\"sk-item\"><div class=\"sk-estimator sk-toggleable\"><input class=\"sk-toggleable__control sk-hidden--visually\" id=\"sk-estimator-id-4\" type=\"checkbox\" checked><label for=\"sk-estimator-id-4\" class=\"sk-toggleable__label sk-toggleable__label-arrow\">RandomForestClassifier</label><div class=\"sk-toggleable__content\"><pre>RandomForestClassifier()</pre></div></div></div></div></div>"
      ],
      "text/plain": [
       "RandomForestClassifier()"
      ]
     },
     "execution_count": 29,
     "metadata": {},
     "output_type": "execute_result"
    }
   ],
   "source": [
    "X_train_minmax_scaled = scaler_minmax.fit_transform(X_train_selected)\n",
    "\n",
    "X_val_minmax_scaled = scaler_minmax.transform(X_val_selected)\n",
    "\n",
    "X_test_minmax_scaled = scaler_minmax.transform(X_test_selected)\n",
    "\n",
    "best_model.fit(X_train_minmax_scaled, y_tr_tr_balanced_smote)"
   ]
  },
  {
   "cell_type": "code",
   "execution_count": 30,
   "metadata": {},
   "outputs": [
    {
     "name": "stdout",
     "output_type": "stream",
     "text": [
      "Validation Metrics:\n",
      "Accuracy: 0.9607843137254902\n",
      "Precision: 0.9626047711154093\n",
      "Recall: 0.9607843137254902\n",
      "F1 Score: 0.960723912206392\n",
      "AUC Score: 0.9936500562461731\n"
     ]
    }
   ],
   "source": [
    "y_val_pred_proba = best_model.predict_proba(X_val_minmax_scaled)\n",
    "\n",
    "y_val_pred = best_model.predict(X_val_minmax_scaled)\n",
    "\n",
    "accuracy_val = accuracy_score(y_val_tr_balanced_smote, y_val_pred)\n",
    "precision_val = precision_score(y_val_tr_balanced_smote, y_val_pred, average='weighted')\n",
    "recall_val = recall_score(y_val_tr_balanced_smote, y_val_pred, average='weighted')\n",
    "f1_val = f1_score(y_val_tr_balanced_smote, y_val_pred, average='weighted')\n",
    "auc_val = roc_auc_score(y_val_tr_balanced_smote, y_val_pred_proba, multi_class='ovr')\n",
    "\n",
    "print(\"Validation Metrics:\")\n",
    "print(\"Accuracy:\", accuracy_val)\n",
    "print(\"Precision:\", precision_val)\n",
    "print(\"Recall:\", recall_val)\n",
    "print(\"F1 Score:\", f1_val)\n",
    "print(\"AUC Score:\", auc_val)"
   ]
  },
  {
   "cell_type": "code",
   "execution_count": 31,
   "metadata": {},
   "outputs": [
    {
     "name": "stdout",
     "output_type": "stream",
     "text": [
      "Test Metrics:\n",
      "Accuracy: 0.9596977329974811\n",
      "Precision: 0.9645716860191272\n",
      "Recall: 0.9596977329974811\n",
      "F1 Score: 0.9618281163835082\n",
      "AUC Score: 0.9789365827428407\n"
     ]
    }
   ],
   "source": [
    "y_test_pred_proba = best_model.predict_proba(X_test_minmax_scaled)\n",
    "\n",
    "y_test_pred = best_model.predict(X_test_minmax_scaled)\n",
    "\n",
    "accuracy_test = accuracy_score(Y_test, y_test_pred)\n",
    "precision_test = precision_score(Y_test, y_test_pred, average='weighted')\n",
    "recall_test = recall_score(Y_test, y_test_pred, average='weighted')\n",
    "f1_test = f1_score(Y_test, y_test_pred, average='weighted')\n",
    "auc_test = roc_auc_score(Y_test, y_test_pred_proba, multi_class='ovr')\n",
    "\n",
    "print(\"Test Metrics:\")\n",
    "print(\"Accuracy:\", accuracy_test)\n",
    "print(\"Precision:\", precision_test)\n",
    "print(\"Recall:\", recall_test)\n",
    "print(\"F1 Score:\", f1_test)\n",
    "print(\"AUC Score:\", auc_test)"
   ]
  },
  {
   "cell_type": "code",
   "execution_count": 32,
   "metadata": {},
   "outputs": [
    {
     "data": {
      "image/png": "[encoded data removed]",
      "text/plain": [
       "<Figure size 800x600 with 2 Axes>"
      ]
     },
     "metadata": {},
     "output_type": "display_data"
    }
   ],
   "source": [
    "import matplotlib.pyplot as plt\n",
    "import seaborn as sns\n",
    "from sklearn.metrics import confusion_matrix\n",
    "\n",
    "cm = confusion_matrix(Y_test, y_test_pred)\n",
    "\n",
    "plt.figure(figsize=(8, 6))\n",
    "sns.heatmap(cm, annot=True, fmt='d', cmap='Blues', xticklabels=['Android', 'iOS', 'Others'], yticklabels=['Android', 'iOS', 'Others'])\n",
    "plt.xlabel('Predicted labels')\n",
    "plt.ylabel('True labels')\n",
    "plt.title('Confusion Matrix - Test Data')\n",
    "plt.show()\n"
   ]
  },
  {
   "cell_type": "code",
   "execution_count": 33,
   "metadata": {},
   "outputs": [
    {
     "name": "stdout",
     "output_type": "stream",
     "text": [
      "F1 Score for Android class: 0.9784366576819407\n",
      "F1 Score for iOS class: 0.5555555555555556\n",
      "F1 Score for Others class: 1.0\n"
     ]
    }
   ],
   "source": [
    "f1_android = f1_score(Y_test == 0, y_test_pred == 0, average='binary')\n",
    "f1_ios = f1_score(Y_test == 1, y_test_pred == 1, average='binary')\n",
    "f1_others = f1_score(Y_test == 2, y_test_pred == 2, average='binary')\n",
    "\n",
    "print(\"F1 Score for Android class:\", f1_android)\n",
    "print(\"F1 Score for iOS class:\", f1_ios)\n",
    "print(\"F1 Score for Others class:\", f1_others)"
   ]
  },
  {
   "cell_type": "markdown",
   "metadata": {},
   "source": [
    "#### Part 2: Battery Capacity as Categorical Feature\n",
    "- **Validation Metrics:**\n",
    "  - **Accuracy:** After converting battery capacity into categorical features, the model achieved a slightly higher accuracy of around 96.08% on the validation dataset compared to Part 1.\n",
    "  - **Precision:** The precision score increased slightly to approximately 96.26%, indicating a higher proportion of correct positive predictions.\n",
    "  - **Recall:** The recall score remained consistent at about 96.08%, indicating that the model effectively captured positive class instances.\n",
    "  - **F1 Score:** The F1 score, indicating the balance between precision and recall, is approximately 96.07%.\n",
    "  - **AUC Score:** Despite the slight increase in accuracy, the AUC score decreased slightly to 99.37%, but still indicates strong discriminatory power.\n",
    "\n",
    "- **Test Metrics:**\n",
    "  - On the test dataset, the model achieved an accuracy of approximately 95.97%, which is slightly lower than the accuracy in Part 1.\n",
    "  - However, the precision, recall, F1 score, and AUC score on the test set are still relatively high, indicating robust performance of the model even after converting battery capacity into categorical features.\n",
    "\n",
    "Overall, converting battery capacity into categorical features resulted in a slight improvement in some metrics on the validation dataset, but the impact on the test dataset is less pronounced."
   ]
  },
  {
   "cell_type": "markdown",
   "metadata": {},
   "source": [
    "**Non-linear Relationship:** The relationship between battery capacity and Operating System may not be linear.\n",
    "Binning assumes a constant relationship between the feature and the target, but if the relationship is non-linear, binning may not effectively capture it."
   ]
  }
 ],
 "metadata": {
  "kernelspec": {
   "display_name": "base",
   "language": "python",
   "name": "python3"
  },
  "language_info": {
   "codemirror_mode": {
    "name": "ipython",
    "version": 3
   },
   "file_extension": ".py",
   "mimetype": "text/x-python",
   "name": "python",
   "nbconvert_exporter": "python",
   "pygments_lexer": "ipython3",
   "version": "3.11.5"
  }
 },
 "nbformat": 4,
 "nbformat_minor": 2
}
